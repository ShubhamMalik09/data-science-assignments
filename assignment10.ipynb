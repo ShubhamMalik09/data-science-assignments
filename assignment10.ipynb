{
 "cells": [
  {
   "cell_type": "code",
   "execution_count": null,
   "id": "bcac4bc3-1364-4782-95bb-a419d8bd0173",
   "metadata": {},
   "outputs": [],
   "source": [
    "#Q1. What is multithreading in python? why is it used? Name the module used to handle threads in python\n",
    "sol=\"Multithreading is a technique in which multiple threads are spawned by a single process to perform multiple tasks concurrently.\\\n",
    "It is used to improve the performance of applications that require multiple tasks to be performed simultaneously.\\\n",
    "Python provides a module called threading to handle threads. The threading module provides a very simple and intuitive API for spawning\\\n",
    "multiple threads in a program\""
   ]
  },
  {
   "cell_type": "code",
   "execution_count": null,
   "id": "3c051422-8be4-419a-b5d8-339cb1510340",
   "metadata": {},
   "outputs": [],
   "source": [
    "#Q2. Why threading module used? Write the use of the following functions\n",
    "sol=\"The threading module in Python is used for creating and managing threads in a multi-threaded environment\"\n",
    "\n",
    "#1. activeCount\n",
    "sol=\" This function returns the number of currently active Thread objects in the program.\\\n",
    "It helps us monitor and keep track of the number of active threads running in our application\"\n",
    "\n",
    "#2. currentThread\n",
    "sol=\"This function returns the current Thread object in which the function is being called.\\\n",
    " It allows us to obtain the Thread object representing the currently executing thread.\"\n",
    "\n",
    "#3. enumerate\n",
    "sol=\"This function returns a list of all Thread objects that are currently active in the program.\""
   ]
  },
  {
   "cell_type": "code",
   "execution_count": null,
   "id": "d0f7283f-153e-4c7d-9f19-7c67e79db6cf",
   "metadata": {},
   "outputs": [],
   "source": [
    "#Q3. Explain the following functions\n",
    "#1. run\n",
    "sol=\" The run() method allows us to encapsulate the thread's logic, making it easy to start the thread and manage its execution separately.\"\n",
    "\n",
    "#2. start\n",
    "sol=\"The start() method is essential for launching threads and allowing them to run concurrently.\\\n",
    "It provides a separate flow of execution without blocking the main thread.\"\n",
    "\n",
    "#3. join\n",
    "sol=\" The join() method is useful when we need to synchronize the main thread with the completion of other threads.\"\n",
    "#4. isAlive\n",
    "sol=\"his method checks whether the thread is currently alive or has completed its execution.\\\n",
    "It returns True if the thread is active (running or waiting for execution) and False otherwise.\""
   ]
  },
  {
   "cell_type": "code",
   "execution_count": 1,
   "id": "057e4592-1461-4eb5-9e3e-af91b93110d5",
   "metadata": {},
   "outputs": [
    {
     "name": "stdout",
     "output_type": "stream",
     "text": [
      "[1, 4, 9, 16]\n",
      "[1, 8, 27, 64]\n"
     ]
    }
   ],
   "source": [
    "#Q4. Write a python program to create two threads. Thread one must print the list of squares and thread two must print the list of cubes\n",
    "import threading\n",
    "def print_sq():\n",
    "    l1=[i*i for i in range(1,5)]\n",
    "    print(l1)\n",
    "\n",
    "def print_cube():\n",
    "    l1=[i*i*i for i in range(1,5)]\n",
    "    print(l1)\n",
    "\n",
    "t1=threading.Thread(target=print_sq)\n",
    "t2=threading.Thread(target=print_cube)\n",
    "t1.start()\n",
    "t2.start()\n",
    "t1.join()\n",
    "t2.join()"
   ]
  },
  {
   "cell_type": "code",
   "execution_count": null,
   "id": "713dcd0a-3194-4fe3-9b58-99ad351696c4",
   "metadata": {},
   "outputs": [],
   "source": [
    "#Q5. State advantages and disadvantages of multithreading\n",
    "#advantages\n",
    "sol=\"Multithreading allows multiple tasks to run concurrently, utilizing multiple CPU cores efficiently and enabling better\\\n",
    "utilization of system resources.\\\n",
    "Multithreading can enhance the responsiveness of applications.\\\n",
    "Multithreading can improve overall performance by allowing the program to perform other tasks while waiting for I/O operations to complete.\"\n",
    "\n",
    "#disadvantages\n",
    "sol=\"It can make programming more complicated.\\\n",
    "When using multiple threads, we need to be careful about issues like data conflicts and errors that may not be easy to find and fix.\\\n",
    "Managing resources with threads can be challenging.\""
   ]
  },
  {
   "cell_type": "code",
   "execution_count": null,
   "id": "3d181749-25b9-4f8e-8263-d57846b22e35",
   "metadata": {},
   "outputs": [],
   "source": [
    "#Q6. Explain deadlocks and race conditions.\n",
    "#deadlocks conditions\n",
    "sol=\"Deadlocks occur when multiple threads or processes are stuck waiting for each other to release resources they need. \\\n",
    "This leads to a situation where none can proceed, causing the program to freeze or become unresponsive.\"\n",
    "\n",
    "#race conditons\n",
    "sol=\"Race conditions arise when the outcome of a program depends on the timing of events and multiple threads compete to access shared resources.\\\n",
    "The result becomes unpredictable as the threads order of execution affects the final output, leading to bugs and inconsistent data\""
   ]
  }
 ],
 "metadata": {
  "kernelspec": {
   "display_name": "Python 3 (ipykernel)",
   "language": "python",
   "name": "python3"
  },
  "language_info": {
   "codemirror_mode": {
    "name": "ipython",
    "version": 3
   },
   "file_extension": ".py",
   "mimetype": "text/x-python",
   "name": "python",
   "nbconvert_exporter": "python",
   "pygments_lexer": "ipython3",
   "version": "3.10.8"
  }
 },
 "nbformat": 4,
 "nbformat_minor": 5
}
