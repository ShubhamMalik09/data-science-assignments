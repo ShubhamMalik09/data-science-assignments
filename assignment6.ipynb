{
 "cells": [
  {
   "cell_type": "code",
   "execution_count": 8,
   "id": "e2054d49-2485-4a34-8ce7-4d47ef179305",
   "metadata": {},
   "outputs": [
    {
     "name": "stdout",
     "output_type": "stream",
     "text": [
      "Corolla max speed: 210 mph\n"
     ]
    }
   ],
   "source": [
    "#Q1. Explain Class and Object with respect to Object-Oriented Programming. Give a suitable example.\n",
    "sol=\"A class is a blueprint for creating objects. It defines the structure and behaviour of objects of that type.\\\n",
    "It serves as a blueprint that specifies what attributes and methods an object of that class will have.\\\n",
    "\\\n",
    "An object is an instance of a class. When we create an object, memory is allocated to hold the object's data, and it can be manipulated through\\\n",
    "its methods.\"\n",
    "\n",
    "class Car:\n",
    "    def __init__(self, make, model,speed):\n",
    "        self.make = make\n",
    "        self.model = model\n",
    "        self.speed = speed\n",
    "        \n",
    "    def max_speed(self):\n",
    "        return self.speed\n",
    "car1 = Car(\"Toyota\", \"Corolla\",210)\n",
    "car2 = Car(\"Honda\", \"Civic\",240)\n",
    "print(f\"{car1.model} max speed: {car1.max_speed()} mph\")\n",
    "\n",
    "sol2=\"This example showcases the relationship between classes and objects in OOP. The class defines the blueprint (Car class),\\\n",
    "and objects (car1 and car2) are created based on that blueprint with their own unique attributes and behavior.\""
   ]
  },
  {
   "cell_type": "code",
   "execution_count": 9,
   "id": "6cd23d1f-e8bc-44b6-bb67-43901924bb1d",
   "metadata": {},
   "outputs": [],
   "source": [
    "#Q2. Name the four pillars of OOPs.\n",
    "sol=\"1. Encapsulation\\\n",
    "2. Inheritance\\\n",
    "3. Abstraction\\\n",
    "4. Polymorphism\""
   ]
  },
  {
   "cell_type": "code",
   "execution_count": 10,
   "id": "56630f71-c917-41f9-be19-893a38e4e230",
   "metadata": {},
   "outputs": [
    {
     "name": "stdout",
     "output_type": "stream",
     "text": [
      "Corolla max speed: 210 mph\n"
     ]
    }
   ],
   "source": [
    "#Q3. Explain why the __init__() function is used. Give a suitable example.\n",
    "sol=\"The __init__() function is a special method in Python that is automatically called when an object is created from a class.\\\n",
    "It serves as a constructor for the class, allowing us to initialize the attributes of the object and perform any necessary operations\\\n",
    "when the object is created.\"\n",
    "class Car:\n",
    "    def __init__(self, make, model,speed):\n",
    "        self.make = make\n",
    "        self.model = model\n",
    "        self.speed = speed\n",
    "car1 = Car(\"Toyota\", \"Corolla\",210)\n",
    "print(f\"{car1.model} max speed: {car1.speed} mph\")\n",
    "\n",
    "sol2=\". The __init__() method is used to initialize (make, model, speed) attributes with the provided values when a new Car object is created.\"\n"
   ]
  },
  {
   "cell_type": "code",
   "execution_count": 11,
   "id": "4bee8fd0-8f24-426f-8e7a-5e8c3d7946ea",
   "metadata": {},
   "outputs": [],
   "source": [
    "#Q4. Why self is used in OOPs?\n",
    "sol=\"self represents the instance of the class. By using the “self”  we can access the attributes and methods of the class in python.\\\n",
    "It binds the attributes with the given arguments. Self must be provided as a first parameter to the Instance method and constructor.\\\n",
    "self is parameter in Instance Method and we can use another parameter name in place of it.\""
   ]
  },
  {
   "cell_type": "code",
   "execution_count": null,
   "id": "1508e224-5c48-4d1a-be3d-7b4eb3ef118d",
   "metadata": {},
   "outputs": [],
   "source": [
    "#Q5. What is inheritance? Give an example for each type of inheritance.\n",
    "sol=\"Inheritance is a fundamental concept in OOPs that allows a new class to inherit properties and behaviors from an existing class.\\\n",
    "It enables code reuse and establishes a relationship between classes, where the subclass inherits the attributes and methods of the superclass\\\n",
    "and can also add its own unique attributes and methods.\"\n",
    "\n",
    "#1. Single Inheritance:\n",
    "class Animal:\n",
    "    def __init__(self, species):\n",
    "        self.species = species\n",
    "        \n",
    "class Dog(Animal):\n",
    "    def __init__(self, species, breed):\n",
    "        super().__init__(species)\n",
    "        self.breed = breed\n",
    "\n",
    "    def make_sound(self):\n",
    "        return \"Bark\"\n",
    "\n",
    "#2. Multiple Inheritance:\n",
    "class Bird:\n",
    "    def __init__(self, species):\n",
    "        self.species = species\n",
    "\n",
    "    def make_sound(self):\n",
    "        return \"Chirp\"\n",
    "\n",
    "class Mammal:\n",
    "    def __init__(self, species):\n",
    "        self.species = species\n",
    "\n",
    "    def make_sound(self):\n",
    "        return \"Roar\"\n",
    "\n",
    "\n",
    "class Platypus(Bird, Mammal):\n",
    "    def __init__(self, species):\n",
    "        Bird.__init__(self, species)\n",
    "        Mammal.__init__(self, species)\n",
    "        \n",
    "\n",
    "#3. Multi-level Inheritance:\n",
    "class Animal:\n",
    "    def __init__(self, species):\n",
    "        self.species = species\n",
    "\n",
    "class Dog(Animal):\n",
    "    def __init__(self, species, breed):\n",
    "        super().__init__(species)\n",
    "        self.breed = breed\n",
    "\n",
    "    def make_sound(self):\n",
    "        return \"Bark\"\n",
    "\n",
    "\n",
    "class Labrador(Dog):\n",
    "    def __init__(self, species, breed, color):\n",
    "        super().__init__(species, breed)\n",
    "        self.color = color"
   ]
  }
 ],
 "metadata": {
  "kernelspec": {
   "display_name": "Python 3 (ipykernel)",
   "language": "python",
   "name": "python3"
  },
  "language_info": {
   "codemirror_mode": {
    "name": "ipython",
    "version": 3
   },
   "file_extension": ".py",
   "mimetype": "text/x-python",
   "name": "python",
   "nbconvert_exporter": "python",
   "pygments_lexer": "ipython3",
   "version": "3.10.8"
  }
 },
 "nbformat": 4,
 "nbformat_minor": 5
}
