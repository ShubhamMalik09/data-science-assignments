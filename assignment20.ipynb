{
 "cells": [
  {
   "cell_type": "code",
   "execution_count": 3,
   "id": "8b70e3f1-39d0-461d-9aed-3275179d5c33",
   "metadata": {},
   "outputs": [
    {
     "name": "stdout",
     "output_type": "stream",
     "text": [
      "      Name  Age      City\n",
      "0    Alice   25  New York\n",
      "1      Bob   30    London\n",
      "2  Charlie   22     Paris\n",
      "3    David   28     Tokyo\n",
      "4      Eve   35    Sydney\n",
      "\n",
      "City: London\n",
      "  Name  Age    City\n",
      "1  Bob   30  London\n",
      "City: New York\n",
      "    Name  Age      City\n",
      "0  Alice   25  New York\n",
      "City: Paris\n",
      "      Name  Age   City\n",
      "2  Charlie   22  Paris\n",
      "City: Sydney\n",
      "  Name  Age    City\n",
      "4  Eve   35  Sydney\n",
      "City: Tokyo\n",
      "    Name  Age   City\n",
      "3  David   28  Tokyo\n",
      "\n",
      "      Name  Age\n",
      "0    Alice   25\n",
      "1      Bob   30\n",
      "2  Charlie   22\n",
      "3    David   28\n",
      "4      Eve   35\n",
      "\n",
      "Empty DataFrame\n",
      "Columns: [Name, Age_x, Age_y, City]\n",
      "Index: []\n",
      "\n",
      "[10 20 30 40 50]\n"
     ]
    }
   ],
   "source": [
    "#Q1. List any five functions of the pandas library with execution.\n",
    "import pandas as pd\n",
    "data = {\n",
    "    'Name': ['Alice', 'Bob', 'Charlie', 'David', 'Eve'],\n",
    "    'Age': [25, 30, 22, 28, 35],\n",
    "    'City': ['New York', 'London', 'Paris', 'Tokyo', 'Sydney']\n",
    "}\n",
    "\n",
    "df = pd.DataFrame(data)\n",
    "\n",
    "#1. head() : Print first few rows of dataframe\n",
    "print(df.head())\n",
    "print()\n",
    "\n",
    "#2. groupby(): This function is used to group data in a DataFrame based on one or more columns.\n",
    "grouped_data=df.groupby(\"City\")\n",
    "for city, group in grouped_data:\n",
    "    print(f\"City: {city}\")\n",
    "    print(group)\n",
    "print() \n",
    "\n",
    "#3. drop(): This function is used to remove rows or columns from a DataFrame.\n",
    "df=df.drop('City', axis=1)\n",
    "print(df)\n",
    "print()\n",
    "\n",
    "#4. merge(): This function is used to combine two DataFrames based on a common column or index.\n",
    "data1 = {\n",
    "    'Name': ['Alice', 'Bob', 'Charlie'],\n",
    "    'Age': [25, 30, 22]\n",
    "}\n",
    "data2 = {\n",
    "    'Name': ['David', 'Eve'],\n",
    "    'Age': [28, 35],\n",
    "    'City': ['Tokyo', 'Sydney']\n",
    "}\n",
    "\n",
    "df1 = pd.DataFrame(data1)\n",
    "df2 = pd.DataFrame(data2)\n",
    "\n",
    "df = pd.merge(df1, df2, on='Name')\n",
    "print(df)\n",
    "print()\n",
    "\n",
    "#5 .unique(): This function is used to get unique values from a Series\n",
    "data = [10, 20, 30, 20, 40, 30, 50]\n",
    "series = pd.Series(data)\n",
    "unique_values = series.unique()\n",
    "print(unique_values)"
   ]
  },
  {
   "cell_type": "code",
   "execution_count": 5,
   "id": "a8d287f9-346c-4b6d-b0cd-4ae5c054be2f",
   "metadata": {},
   "outputs": [
    {
     "name": "stdout",
     "output_type": "stream",
     "text": [
      "    A   B    C\n",
      "1  10  50   90\n",
      "3  20  60  100\n",
      "5  30  70  110\n",
      "7  40  80  120\n"
     ]
    }
   ],
   "source": [
    "#Q2. Given a Pandas DataFrame df with columns 'A', 'B', and 'C', write a Python function to re-index the DataFrame\n",
    "#with a new index that starts from 1 and increments by 2 for each row.\n",
    "import pandas as pd\n",
    "data = {\n",
    "    'A': [10, 20, 30, 40],\n",
    "    'B': [50, 60, 70, 80],\n",
    "    'C': [90, 100, 110, 120]\n",
    "}\n",
    "\n",
    "df = pd.DataFrame(data)\n",
    "new_index=pd.RangeIndex(start=1,step=2,stop=len(df)*2+1)\n",
    "df.index=new_index\n",
    "print(df)"
   ]
  },
  {
   "cell_type": "code",
   "execution_count": 24,
   "id": "cd6c2fca-63ba-40fe-ac28-c44fbea7170a",
   "metadata": {},
   "outputs": [
    {
     "name": "stdout",
     "output_type": "stream",
     "text": [
      "values    60\n",
      "dtype: int64\n"
     ]
    }
   ],
   "source": [
    "#Q3. You have a Pandas DataFrame df with a column named 'Values'. Write a Python function that iterates over the DataFrame\n",
    "#and calculates the sum of the first three values in the 'Values' column. The function should print the sum to the console.\n",
    "#For example, if the 'Values' column of df contains the values [10, 20, 30, 40, 50], your function should\n",
    "#calculate and print the sum of the first three values, which is 60.\n",
    "data = {\n",
    "    'values': [10, 20, 30, 40,50]\n",
    "}\n",
    "df=pd.DataFrame(data)\n",
    "new_df=df.loc[0:2,[\"values\"]]\n",
    "sum=new_df.sum()\n",
    "print(sum)"
   ]
  },
  {
   "cell_type": "code",
   "execution_count": 25,
   "id": "e98e12a2-7270-4293-b7c6-29ecbdc19b41",
   "metadata": {},
   "outputs": [
    {
     "data": {
      "text/html": [
       "<div>\n",
       "<style scoped>\n",
       "    .dataframe tbody tr th:only-of-type {\n",
       "        vertical-align: middle;\n",
       "    }\n",
       "\n",
       "    .dataframe tbody tr th {\n",
       "        vertical-align: top;\n",
       "    }\n",
       "\n",
       "    .dataframe thead th {\n",
       "        text-align: right;\n",
       "    }\n",
       "</style>\n",
       "<table border=\"1\" class=\"dataframe\">\n",
       "  <thead>\n",
       "    <tr style=\"text-align: right;\">\n",
       "      <th></th>\n",
       "      <th>Text</th>\n",
       "      <th>Word_Count</th>\n",
       "    </tr>\n",
       "  </thead>\n",
       "  <tbody>\n",
       "    <tr>\n",
       "      <th>0</th>\n",
       "      <td>hello</td>\n",
       "      <td>5</td>\n",
       "    </tr>\n",
       "    <tr>\n",
       "      <th>1</th>\n",
       "      <td>Alice</td>\n",
       "      <td>5</td>\n",
       "    </tr>\n",
       "    <tr>\n",
       "      <th>2</th>\n",
       "      <td>bonjour</td>\n",
       "      <td>7</td>\n",
       "    </tr>\n",
       "    <tr>\n",
       "      <th>3</th>\n",
       "      <td>is</td>\n",
       "      <td>2</td>\n",
       "    </tr>\n",
       "    <tr>\n",
       "      <th>4</th>\n",
       "      <td>pneumonoultramicroscopicsilicovolcanoconiosis</td>\n",
       "      <td>45</td>\n",
       "    </tr>\n",
       "  </tbody>\n",
       "</table>\n",
       "</div>"
      ],
      "text/plain": [
       "                                            Text  Word_Count\n",
       "0                                          hello           5\n",
       "1                                          Alice           5\n",
       "2                                        bonjour           7\n",
       "3                                             is           2\n",
       "4  pneumonoultramicroscopicsilicovolcanoconiosis          45"
      ]
     },
     "execution_count": 25,
     "metadata": {},
     "output_type": "execute_result"
    }
   ],
   "source": [
    "#Q4. Given a Pandas DataFrame df with a column 'Text', write a Python function to create a new column 'Word_Count'\n",
    "#that contains the number of words in each row of the 'Text' column.\n",
    "data = {\n",
    "    'Text': ['hello','Alice','bonjour','is','pneumonoultramicroscopicsilicovolcanoconiosis']\n",
    "}\n",
    "df=pd.DataFrame(data)\n",
    "df['Word_Count']=df['Text'].apply(lambda x:len(x))\n",
    "df"
   ]
  },
  {
   "cell_type": "code",
   "execution_count": 26,
   "id": "be8bf7b4-d876-4355-b695-3e54f5105743",
   "metadata": {},
   "outputs": [
    {
     "name": "stdout",
     "output_type": "stream",
     "text": [
      "DataFrame Size: 15\n",
      "DataFrame Shape: (5, 3)\n"
     ]
    }
   ],
   "source": [
    "#Q5. How are DataFrame.size() and DataFrame.shape() different?\n",
    "sol=\"DataFrame.size(): This attribute returns the total number of elements in the DataFrame. In other words, DataFrame.size gives the total count\\\n",
    "of cells in the DataFrame.\\\n",
    "DataFrame.shape: This attribute returns a tuple representing the dimensions of the DataFrame.\\\n",
    "It provides the number of rows and columns as (num_rows, num_columns).\"\n",
    "\n",
    "data = {\n",
    "    'Name': ['Alice', 'Bob', 'Charlie', 'David', 'Eve'],\n",
    "    'Age': [25, 30, 22, 28, 35],\n",
    "    'City': ['New York', 'London', 'Paris', 'Tokyo', 'Sydney']\n",
    "}\n",
    "\n",
    "df = pd.DataFrame(data)\n",
    "size = df.size\n",
    "shape = df.shape\n",
    "\n",
    "print(\"DataFrame Size:\", size)\n",
    "print(\"DataFrame Shape:\", shape)"
   ]
  },
  {
   "cell_type": "code",
   "execution_count": null,
   "id": "81ed7ae6-e92c-442e-b24c-c9b2cefb3eab",
   "metadata": {},
   "outputs": [],
   "source": [
    "#Q6. Which function of pandas do we use to read an excel file?\n",
    "sol=\"To read an Excel file in Pandas, we can use the pd.read_excel() function. This function allows us to read data from an Excel file\\\n",
    "and create a DataFrame in Pandas\"\n",
    "import pandas as pd\n",
    "df=pd.read_excel(\"any.xlsx\")"
   ]
  },
  {
   "cell_type": "code",
   "execution_count": 30,
   "id": "df089fff-c912-4042-bfe8-3eb9597b38a1",
   "metadata": {},
   "outputs": [
    {
     "name": "stdout",
     "output_type": "stream",
     "text": [
      "                       email      Username\n",
      "0              abc@gmail.com           abc\n",
      "1       1234school@gmail.com    1234school\n",
      "2  zindgijio420@life4all.com  zindgijio420\n",
      "3     loveu300@tonystark.com      loveu300\n"
     ]
    }
   ],
   "source": [
    "#Q7. You have a Pandas DataFrame df that contains a column named 'Email' that contains email addresses in the format 'username@domain.com'.\n",
    "#Write a Python function that creates a new column 'Username' in df that contains only the username part of each email address.\n",
    "data={\n",
    "    \"email\":['abc@gmail.com','1234school@gmail.com','zindgijio420@life4all.com','loveu300@tonystark.com']\n",
    "}\n",
    "df=pd.DataFrame(data)\n",
    "df[\"Username\"]=df['email'].apply(lambda x:(x.split('@')[0]))\n",
    "print(df)"
   ]
  },
  {
   "cell_type": "code",
   "execution_count": 39,
   "id": "b5f2259d-f7fe-4b16-b76b-0691a94ae5d9",
   "metadata": {},
   "outputs": [
    {
     "name": "stdout",
     "output_type": "stream",
     "text": [
      "   A  B  C\n",
      "1  8  2  7\n",
      "2  6  9  4\n",
      "4  9  1  2\n"
     ]
    }
   ],
   "source": [
    "#Q8. You have a Pandas DataFrame df with columns 'A', 'B', and 'C'. Write a Python function that selectsall rows where the value in column 'A' \n",
    "#is greater than 5 and the value in column 'B' is less than 10. The function should return a new DataFrame that contains only the selected rows.\n",
    "#For example, if df contains the following values:\n",
    "#  A B C\n",
    "#0 3 5 1\n",
    "#1 8 2 7\n",
    "#2 6 9 4\n",
    "#3 2 3 5\n",
    "#4 9 1 2\n",
    "def update_df(df):\n",
    "    new_df=df[(df['A']>5) & (df['B']<10)]\n",
    "    return new_df\n",
    "data={\n",
    "    'A':[3,8,6,2,9],\n",
    "    'B':[5,2,9,3,1],\n",
    "    'C':[1,7,4,5,2]\n",
    "}\n",
    "df=pd.DataFrame(data)\n",
    "df=update_df(df)\n",
    "print(df)"
   ]
  },
  {
   "cell_type": "code",
   "execution_count": 51,
   "id": "0f7aa113-b065-4e98-a2c7-f31cbc0450d2",
   "metadata": {},
   "outputs": [
    {
     "name": "stdout",
     "output_type": "stream",
     "text": [
      "mean: 5.6\n",
      "\n",
      "median: 6.0\n",
      "\n",
      "standard deviation: 3.0495901363953815\n"
     ]
    }
   ],
   "source": [
    "#Q9. Given a Pandas DataFrame df with a column 'Values', write a Python function to calculate the mean, median, and standard deviation\n",
    "#of the values in the 'Values' column.\n",
    "data={\n",
    "    'values':[3,8,6,2,9]\n",
    "}\n",
    "df=pd.DataFrame(data)\n",
    "print(\"mean:\",df.mean()[0])\n",
    "print()\n",
    "print(\"median:\",df.median()[0])\n",
    "print()\n",
    "print(\"standard deviation:\",df.std()[0])"
   ]
  },
  {
   "cell_type": "code",
   "execution_count": 10,
   "id": "0bb3c2e8-0dbf-4fb0-ade1-bc6c0b756557",
   "metadata": {},
   "outputs": [
    {
     "name": "stdout",
     "output_type": "stream",
     "text": [
      "   Sales        Date  MovingAverage\n",
      "0    100  2023-07-01     100.000000\n",
      "1    120  2023-07-02     110.000000\n",
      "2     80  2023-07-03     100.000000\n",
      "3    150  2023-07-04     112.500000\n",
      "4    200  2023-07-05     130.000000\n",
      "5     90  2023-07-06     123.333333\n",
      "6    130  2023-07-07     124.285714\n",
      "7    180  2023-07-08     135.714286\n"
     ]
    }
   ],
   "source": [
    "#Q10. Given a Pandas DataFrame df with a column 'Sales' and a column 'Date', write a Python function to create a new column 'MovingAverage'\n",
    "#that contains the moving average of the sales for the past 7 days for each row in the DataFrame. The moving average should be calculated\n",
    "#using a window of size 7 and should include the current day.\n",
    "import pandas as pd\n",
    "\n",
    "data = {\n",
    "    'Sales': [100, 120, 80, 150, 200, 90, 130, 180],\n",
    "    'Date': ['2023-07-01', '2023-07-02', '2023-07-03', '2023-07-04', '2023-07-05', '2023-07-06', '2023-07-07', '2023-07-08']\n",
    "}\n",
    "df=pd.DataFrame(data)\n",
    "df['MovingAverage'] = df['Sales'].rolling(window=7, min_periods=1).mean()\n",
    "print(df)"
   ]
  },
  {
   "cell_type": "code",
   "execution_count": 6,
   "id": "b8088c70-b2cd-4ba2-9b34-763010a96dc6",
   "metadata": {},
   "outputs": [
    {
     "name": "stdout",
     "output_type": "stream",
     "text": [
      "        Date    Weekday\n",
      "0 2023-01-01     Sunday\n",
      "1 2023-01-02     Monday\n",
      "2 2023-01-03    Tuesday\n",
      "3 2023-01-04  Wednesday\n",
      "4 2023-01-05   Thursday\n"
     ]
    }
   ],
   "source": [
    "#Q11. You have a Pandas DataFrame df with a column 'Date'. Write a Python function that creates a newcolumn 'Weekday' in the DataFrame.\n",
    "#The 'Weekday' column should contain the weekday name (e.g. Monday, Tuesday) corresponding to each date in the 'Date' column.\n",
    "#For example, if df contains the following values:\n",
    "#    Date\n",
    "#0 2023-01-01\n",
    "#1 2023-01-02\n",
    "#2 2023-01-03\n",
    "#3 2023-01-04\n",
    "#4 2023-01-05\n",
    "\n",
    "data = {\n",
    "    'Date': ['2023-01-01', '2023-01-02', '2023-01-03', '2023-01-04', '2023-01-05']\n",
    "}\n",
    "\n",
    "df = pd.DataFrame(data)\n",
    "df[\"Date\"]=pd.to_datetime(df['Date'])\n",
    "df[\"Weekday\"]=df['Date'].dt.day_name()\n",
    "print(df)"
   ]
  },
  {
   "cell_type": "code",
   "execution_count": 8,
   "id": "a4afbf25-27c2-4d13-b2d4-dcbfe38661c9",
   "metadata": {},
   "outputs": [
    {
     "name": "stdout",
     "output_type": "stream",
     "text": [
      "        Date\n",
      "0 2023-01-01\n",
      "1 2023-01-15\n",
      "2 2023-01-31\n"
     ]
    }
   ],
   "source": [
    "#Q12. Given a Pandas DataFrame df with a column 'Date' that contains timestamps, write a Python\n",
    "#function to select all rows where the date is between '2023-01-01' and '2023-01-31'.\n",
    "data = {\n",
    "    'Date': ['2023-01-01', '2023-01-15', '2023-01-31', '2023-02-05', '2023-02-10']\n",
    "}\n",
    "df=pd.DataFrame(data)\n",
    "df[\"Date\"]=pd.to_datetime(df[\"Date\"])\n",
    "mask = (df['Date'] >= '2023-01-01') & (df['Date'] <= '2023-01-31')\n",
    "df=df[mask]\n",
    "print(df)"
   ]
  },
  {
   "cell_type": "code",
   "execution_count": null,
   "id": "164d24a5-89af-4e74-9d24-b0409f578e23",
   "metadata": {},
   "outputs": [],
   "source": [
    "#Q13. To use the basic functions of pandas, what is the first and foremost necessary library that needs to be imported?\n",
    "sol=\"To use the basic functions of pandas, the first and foremost necessary library that needs to be imported is the 'pandas' library itself\"\n",
    "import pandas as pd"
   ]
  }
 ],
 "metadata": {
  "kernelspec": {
   "display_name": "Python 3 (ipykernel)",
   "language": "python",
   "name": "python3"
  },
  "language_info": {
   "codemirror_mode": {
    "name": "ipython",
    "version": 3
   },
   "file_extension": ".py",
   "mimetype": "text/x-python",
   "name": "python",
   "nbconvert_exporter": "python",
   "pygments_lexer": "ipython3",
   "version": "3.10.8"
  }
 },
 "nbformat": 4,
 "nbformat_minor": 5
}
