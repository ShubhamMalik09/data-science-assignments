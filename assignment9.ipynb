{
 "cells": [
  {
   "cell_type": "code",
   "execution_count": null,
   "id": "1a25afbc-5a25-4f08-ba3d-8e6745445b98",
   "metadata": {},
   "outputs": [],
   "source": [
    "#Q1. Explain why we have to use the Exception class while creating a Custom Exception.\n",
    "sol=\"In Python, custom exceptions must inherit from the base Exception class or its subclasses.\\\n",
    "By using the Exception class as the base, custom exceptions gain access to essential functionality like storing error messages, etc\""
   ]
  },
  {
   "cell_type": "code",
   "execution_count": 13,
   "id": "fe594b26-cbe5-4c28-9e37-132a90728c58",
   "metadata": {},
   "outputs": [
    {
     "name": "stdout",
     "output_type": "stream",
     "text": [
      "ArithmeticError\n",
      "AssertionError\n",
      "AttributeError\n",
      "BaseException\n",
      "BlockingIOError\n",
      "BrokenPipeError\n",
      "BufferError\n",
      "BytesWarning\n",
      "ChildProcessError\n",
      "ConnectionAbortedError\n",
      "ConnectionError\n",
      "ConnectionRefusedError\n",
      "ConnectionResetError\n",
      "DeprecationWarning\n",
      "EOFError\n",
      "EncodingWarning\n",
      "EnvironmentError\n",
      "Exception\n",
      "FileExistsError\n",
      "FileNotFoundError\n",
      "FloatingPointError\n",
      "FutureWarning\n",
      "GeneratorExit\n",
      "IOError\n",
      "ImportError\n",
      "ImportWarning\n",
      "IndentationError\n",
      "IndexError\n",
      "InterruptedError\n",
      "IsADirectoryError\n",
      "KeyError\n",
      "KeyboardInterrupt\n",
      "LookupError\n",
      "MemoryError\n",
      "ModuleNotFoundError\n",
      "NameError\n",
      "NotADirectoryError\n",
      "NotImplementedError\n",
      "OSError\n",
      "OverflowError\n",
      "PendingDeprecationWarning\n",
      "PermissionError\n",
      "ProcessLookupError\n",
      "RecursionError\n",
      "ReferenceError\n",
      "ResourceWarning\n",
      "RuntimeError\n",
      "RuntimeWarning\n",
      "StopAsyncIteration\n",
      "StopIteration\n",
      "SyntaxError\n",
      "SyntaxWarning\n",
      "SystemError\n",
      "SystemExit\n",
      "TabError\n",
      "TimeoutError\n",
      "TypeError\n",
      "UnboundLocalError\n",
      "UnicodeDecodeError\n",
      "UnicodeEncodeError\n",
      "UnicodeError\n",
      "UnicodeTranslateError\n",
      "UnicodeWarning\n",
      "UserWarning\n",
      "ValueError\n",
      "Warning\n",
      "ZeroDivisionError\n"
     ]
    }
   ],
   "source": [
    "#Q2. Write a python program to print Python Exception Hierarchy.\n",
    "import inspect\n",
    "\n",
    "for name, obj in inspect.getmembers(__builtins__):\n",
    "    if inspect.isclass(obj):\n",
    "        if issubclass(obj, BaseException):\n",
    "            print(name)"
   ]
  },
  {
   "cell_type": "code",
   "execution_count": 11,
   "id": "2895b507-d35a-4178-aad2-7eb3159c2cfe",
   "metadata": {},
   "outputs": [
    {
     "name": "stdout",
     "output_type": "stream",
     "text": [
      "Error: division by zero\n",
      "Error: Exceeds the limit (4300) for integer string conversion; use sys.set_int_max_str_digits() to increase the limit\n"
     ]
    }
   ],
   "source": [
    "#Q3. What errors are defined in the ArithmeticError class? Explain any two with an example.\n",
    "sol=\"The ArithmeticError class is a base class for arithmetic-related errors in Python.\\\n",
    "It serves as a superclass for specific arithmetic-related exceptions.\\\n",
    "Ex:\"\n",
    "# 1. ZeroDivisionError\n",
    "a=20\n",
    "b=0\n",
    "try:\n",
    "    result =  a/ b\n",
    "    print(result)\n",
    "except ZeroDivisionError as e:\n",
    "    print(f\"Error: {e}\")\n",
    "\n",
    "# 2. OverFlowError\n",
    "a=2\n",
    "b=1000000\n",
    "try:\n",
    "    print(a**b)\n",
    "except Exception as e:\n",
    "    print(f\"Error: {e}\")"
   ]
  },
  {
   "cell_type": "code",
   "execution_count": 1,
   "id": "b27c1825-0bff-49c8-82fb-1aa5c34fc444",
   "metadata": {},
   "outputs": [
    {
     "name": "stdout",
     "output_type": "stream",
     "text": [
      "Error: 'grapes'\n",
      "Error: list index out of range\n"
     ]
    }
   ],
   "source": [
    "#Q4. Why LookupError class is used? Explain with an example KeyError and IndexError\n",
    "sol=\"The LookupError class is a base class for exceptions that occur when a lookup operation fails. \\\n",
    "It serves as a superclass for more specific lookup-related exceptions like KeyError and IndexError\"\n",
    "\n",
    "#1. KeyError\n",
    "m_dict = {\"apple\": 1, \"banana\": 2, \"orange\": 3}\n",
    "try:\n",
    "    value = m_dict[\"grapes\"]\n",
    "    print(value)\n",
    "except KeyError as e:\n",
    "    print(f\"Error: {e}\")\n",
    "    \n",
    "# 2. IndexError\n",
    "my_list = [10, 20, 30]\n",
    "try:\n",
    "    value = my_list[4]\n",
    "    print(value)\n",
    "except IndexError as e:\n",
    "    print(f\"Error: {e}\")"
   ]
  },
  {
   "cell_type": "code",
   "execution_count": 2,
   "id": "ac408227-6d32-4fd1-9ebb-94142690153a",
   "metadata": {},
   "outputs": [],
   "source": [
    "#Q5. Explain ImportError. What is ModuleNotFoundError?\n",
    "sol=\"ImportError is raised when an import statement has trouble successfully importing the specified module.\\\n",
    "Typically, such a problem is due to an invalid or incorrect path.\\\n",
    "ModuleNotFoundError is a subclass of ImportError that is raised when Python cannot find the module we are trying to import.\\\n",
    "It can be raised due to an invalid or incorrect path or if the module doesn’t exist on our hard drive.\""
   ]
  },
  {
   "cell_type": "code",
   "execution_count": null,
   "id": "fc24fb9a-bda8-4322-b21e-f982e85551a3",
   "metadata": {},
   "outputs": [],
   "source": [
    "#Q6. List down some best practices for exception handling in python.\n",
    "sol=\"Use try-except for Critical Code\\\n",
    "Use except with Specific Exceptions\\\n",
    "Use else for Success Code\\\n",
    "Use finally for Cleanup\\\n",
    "Reraise Unhandled Exceptions\\\n",
    "Use Custom Exceptions\\\n",
    "Keep Error Messages Informative\""
   ]
  }
 ],
 "metadata": {
  "kernelspec": {
   "display_name": "Python 3 (ipykernel)",
   "language": "python",
   "name": "python3"
  },
  "language_info": {
   "codemirror_mode": {
    "name": "ipython",
    "version": 3
   },
   "file_extension": ".py",
   "mimetype": "text/x-python",
   "name": "python",
   "nbconvert_exporter": "python",
   "pygments_lexer": "ipython3",
   "version": "3.10.8"
  }
 },
 "nbformat": 4,
 "nbformat_minor": 5
}
