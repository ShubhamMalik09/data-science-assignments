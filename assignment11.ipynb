{
 "cells": [
  {
   "cell_type": "code",
   "execution_count": null,
   "id": "ef7b3926-cc51-4d7e-af05-6068856a0463",
   "metadata": {},
   "outputs": [],
   "source": [
    "#Q1. What is multiprocessing in python? Why is it useful?\n",
    "sol=\"Multiprocessing in Python is a technique of creating and running multiple processes to perform tasks concurrently.\\\n",
    "Multiprocessing involves creating separate processes, each with its own memory space, to execute tasks simultaneously.\\\n",
    "Multiprocessing is useful for CPU-bound tasks that require intensive computations or perform tasks concurrently without interference.\\\n",
    "It offers improved performance by utilizing multiple CPU cores, leading to reduced processing time and faster execution.\\\n",
    "Another advantage of multiprocessing is better resource utilization, as each process has its memory space,\\\n",
    "avoiding resource contention issues that may arise in multithreading. \""
   ]
  },
  {
   "cell_type": "code",
   "execution_count": null,
   "id": "53a7a3d4-6c4c-41e2-875b-c0ff3d01a149",
   "metadata": {},
   "outputs": [],
   "source": [
    "#Q2. What are the differences between multiprocessing and multithreading?\n",
    "#Multiprocessing\n",
    "sol=\"Multiprocessing creates separate processes with their memory space.\\\n",
    "Multiprocessing is more suitable for CPU-bound tasks, as it utilizes multiple CPU cores for parallel processing.\\\n",
    "Multiprocessing provides better resource isolation, preventing resource contention.\"\n",
    "\n",
    "#Multithreading\n",
    "sol=\"Multithreading uses multiple threads within a single process, sharing the same memory space.\\\n",
    "Multithreading is more efficient for I/O-bound tasks due to its lightweight nature.\\\n",
    "Multithreading can lead to contention and synchronization overhead.\""
   ]
  },
  {
   "cell_type": "code",
   "execution_count": 1,
   "id": "8a808edb-78c8-4c90-8b5c-08e4e1e7eb45",
   "metadata": {},
   "outputs": [
    {
     "name": "stdout",
     "output_type": "stream",
     "text": [
      "my name is Shubham\n",
      "my name is Sam\n"
     ]
    }
   ],
   "source": [
    "#Q3. Write a python code to create a process using the multiprocessing module.\n",
    "import multiprocessing\n",
    "def print_name(name):\n",
    "    print(f\"my name is {name}\")\n",
    "\n",
    "p1=multiprocessing.Process(target=print_name, args=(\"Shubham\",))\n",
    "p2=multiprocessing.Process(target=print_name, args=(\"Sam\",))\n",
    "p1.start()\n",
    "p2.start()\n",
    "p1.join()\n",
    "p2.join()"
   ]
  },
  {
   "cell_type": "code",
   "execution_count": null,
   "id": "1166568d-438d-4821-8819-4c6ea5bbf4fd",
   "metadata": {},
   "outputs": [],
   "source": [
    "#Q4. What is a multiprocessing pool in python? Why is it used?\n",
    "sol=\"A multiprocessing pool in Python is a group of worker processes created using 'multiprocessing.Pool'.\\\n",
    "It enables parallel processing by distributing tasks across multiple cores, enhancing performance for CPU-bound tasks and data processing.\""
   ]
  },
  {
   "cell_type": "code",
   "execution_count": 4,
   "id": "033cadd3-07e4-4d36-9e3e-cf847342e28d",
   "metadata": {},
   "outputs": [
    {
     "name": "stdout",
     "output_type": "stream",
     "text": [
      "[1, 4, 9, 16, 25]\n"
     ]
    }
   ],
   "source": [
    "#Q5. How can we create a pool of worker processes in python using the multiprocessing module?\n",
    "import multiprocessing\n",
    "def print_sq(num):\n",
    "    return num**2\n",
    "num_processes = multiprocessing.cpu_count()\n",
    "with multiprocessing.Pool(processes=num_processes) as pool:\n",
    "    numbers = [1, 2, 3, 4, 5]\n",
    "    results = pool.map(print_sq, numbers)\n",
    "print(results)"
   ]
  },
  {
   "cell_type": "code",
   "execution_count": 5,
   "id": "f9f43b88-3a9a-48ba-b3ab-1983a8449d6a",
   "metadata": {},
   "outputs": [
    {
     "name": "stdout",
     "output_type": "stream",
     "text": [
      "1\n",
      "2\n",
      "3\n",
      "4\n"
     ]
    }
   ],
   "source": [
    "#Q6. Write a python program to create 4 processes, each process should print a different number using the multiprocessing module in python.\n",
    "import multiprocessing\n",
    "def print_num(num):\n",
    "    print(num)\n",
    "number=[1,2,3,4]\n",
    "processes=[]\n",
    "for num in number:\n",
    "    process = multiprocessing.Process(target=print_num, args=(num,))\n",
    "    processes.append(process)\n",
    "    process.start()\n",
    "for process in processes:\n",
    "    process.join()   "
   ]
  }
 ],
 "metadata": {
  "kernelspec": {
   "display_name": "Python 3 (ipykernel)",
   "language": "python",
   "name": "python3"
  },
  "language_info": {
   "codemirror_mode": {
    "name": "ipython",
    "version": 3
   },
   "file_extension": ".py",
   "mimetype": "text/x-python",
   "name": "python",
   "nbconvert_exporter": "python",
   "pygments_lexer": "ipython3",
   "version": "3.10.8"
  }
 },
 "nbformat": 4,
 "nbformat_minor": 5
}
