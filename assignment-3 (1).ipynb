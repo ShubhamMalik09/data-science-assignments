{
 "cells": [
  {
   "cell_type": "code",
   "execution_count": 5,
   "id": "4e4191b6-5230-4c81-80e3-506bec90255c",
   "metadata": {},
   "outputs": [
    {
     "name": "stdout",
     "output_type": "stream",
     "text": [
      "[1, 3, 5, 7, 9, 11, 13, 15, 17, 19, 21, 23]\n"
     ]
    }
   ],
   "source": [
    "#Q1. Which keyword is used to create a function? Create a function to return a list of odd numbers in the range of 1 to 25.\n",
    "\"\"\"Sol= def keyword is used to create a function\"\"\"\n",
    "#function to return a list of odd numbers in the range of 1 to 25\n",
    "def list_odd():\n",
    "    l=[]\n",
    "    for i in range(1,25,2):\n",
    "        l.append(i)\n",
    "    return l\n",
    "print(list_odd())"
   ]
  },
  {
   "cell_type": "code",
   "execution_count": 13,
   "id": "2aa42016-e890-439f-8077-cbdb78ffbffb",
   "metadata": {},
   "outputs": [
    {
     "name": "stdout",
     "output_type": "stream",
     "text": [
      "15\n",
      "\n",
      "john = 56\n",
      "ram = 98\n",
      "tony_stark = 100\n"
     ]
    }
   ],
   "source": [
    "#Q2. Why *args and **kwargs is used in some functions? Create a function each for *args and **kwargs to demonstrate their use.\n",
    "sol=\"\"\"The *args and **kwargs are special functions in python.\n",
    "       *args allows a function to accept any number of positonal arguments. Within the function, args becomes a tuple that contains all the positional arguments passed to the function.\n",
    "       **kwargs allows a function to accept any number of keyword arguments. Within the function, kwargs becomes a dictionary that contain all the keyword passed to the function\"\"\"\n",
    "#Example of *args\n",
    "def sum(*args):\n",
    "    total=0\n",
    "    for i in args:\n",
    "        total+=i\n",
    "    print(total)\n",
    "sum(1,2,3,4,5)\n",
    "\n",
    "print()\n",
    "\n",
    "def marks(**kwargs):\n",
    "    for key,value in kwargs.items():\n",
    "        print(key,\"=\",value)\n",
    "marks(john=56,ram=98,tony_stark=100)\n"
   ]
  },
  {
   "cell_type": "code",
   "execution_count": 16,
   "id": "f6eb98d8-f405-4a48-98e7-33e7da079d62",
   "metadata": {},
   "outputs": [
    {
     "name": "stdout",
     "output_type": "stream",
     "text": [
      "2\n",
      "4\n",
      "6\n",
      "8\n",
      "10\n"
     ]
    }
   ],
   "source": [
    "#Q3.What is an iterator in python? Name the method used to initialise the iterator object and the method used for iteration. Use these methods to print the first five elements of the given list [2, 4, 6, 8, 10, 12, 14, 16, 18, 20].\n",
    "sol1=\"In python, iterator is an object thst allow us to iterate each element of a container without knowing its internal structure\"\n",
    "sol2=\"To initialize an iterator object, we can use the iter() function in python. It takes an iterable as an argument and returns an iterator object\"\n",
    "l1=[2, 4, 6, 8, 10, 12, 14, 16, 18, 20]\n",
    "my_iter=iter(l1)\n",
    "for i in range(5):\n",
    "    print(next(my_iter))\n"
   ]
  },
  {
   "cell_type": "code",
   "execution_count": 18,
   "id": "2539ecbb-557f-4952-9dfc-9b885530e2b2",
   "metadata": {},
   "outputs": [
    {
     "name": "stdout",
     "output_type": "stream",
     "text": [
      "0\n",
      "1\n",
      "4\n",
      "9\n",
      "16\n"
     ]
    }
   ],
   "source": [
    "#Q4. What is a generator function in python? Why yield keyword is used? Give an example of a generator function.\n",
    "sol1=\"In Python, a generator function is a special type of function that generates a sequence of values using the yield keyword.\"\n",
    "sol2=\"The yield keyword is used in generator functions to define a value that will be yielded to the caller, but the state of the function is saved, allowing it to be resumed later. Each time the generator function encounters a yield statement, it pauses its execution, returns the yielded value, and saves its internal state.\"\n",
    "def squares(n):\n",
    "    for i in range(n):\n",
    "        yield i ** 2\n",
    "my_gen = squares(5)\n",
    "\n",
    "for square in my_gen:\n",
    "    print(square)\n"
   ]
  },
  {
   "cell_type": "code",
   "execution_count": 24,
   "id": "bfa30ef0-17bb-47bc-abac-114bb87c3f15",
   "metadata": {},
   "outputs": [
    {
     "name": "stdout",
     "output_type": "stream",
     "text": [
      "2\n",
      "3\n",
      "5\n",
      "7\n",
      "11\n",
      "13\n",
      "17\n",
      "19\n",
      "23\n",
      "29\n",
      "31\n",
      "37\n",
      "41\n",
      "43\n",
      "47\n",
      "53\n",
      "59\n",
      "61\n",
      "67\n",
      "71\n"
     ]
    }
   ],
   "source": [
    "#Q5. Create a generator function for prime numbers less than 1000. Use the next() method to print the first 20 prime numbers.\n",
    "def prime():\n",
    "    primes = []\n",
    "    num = 2\n",
    "    for i in range(1000):\n",
    "        if all(num % prime != 0 for prime in primes):\n",
    "            primes.append(num)\n",
    "            yield num\n",
    "        num += 1\n",
    "prime_gen=prime()\n",
    "for i in range(20):\n",
    "    print(next(prime_gen))\n",
    "    "
   ]
  },
  {
   "cell_type": "code",
   "execution_count": 27,
   "id": "087794e1-2ec5-4533-9ff4-a0cc2730ce86",
   "metadata": {},
   "outputs": [
    {
     "name": "stdout",
     "output_type": "stream",
     "text": [
      "0\n",
      "1\n",
      "1\n",
      "2\n",
      "3\n",
      "5\n",
      "8\n",
      "13\n",
      "21\n",
      "34\n"
     ]
    }
   ],
   "source": [
    "#Q6.Write a python program to print the first 10 Fibonacci numbers using a while loop.\n",
    "a=0\n",
    "b=1\n",
    "print(a)\n",
    "print(b)\n",
    "i=3\n",
    "while(i<=10):\n",
    "    c=a+b\n",
    "    print(c)\n",
    "    a=b\n",
    "    b=c\n",
    "    i+=1\n"
   ]
  },
  {
   "cell_type": "code",
   "execution_count": 28,
   "id": "42a41bee-a8c9-4cdf-a59b-d1729198559b",
   "metadata": {},
   "outputs": [
    {
     "name": "stdout",
     "output_type": "stream",
     "text": [
      "['p', 'w', 's', 'k', 'i', 'l', 'l', 's']\n"
     ]
    }
   ],
   "source": [
    "#Q7.Write a List Comprehension to iterate through the given string: ‘pwskills’. Expected output: ['p', 'w', 's', 'k', 'i', 'l', 'l', 's']\n",
    "s=\"pwskills\"\n",
    "result=[i for i in s]\n",
    "print(result)\n"
   ]
  },
  {
   "cell_type": "code",
   "execution_count": 32,
   "id": "a3b926c7-1be0-436b-9d19-d27a95c1a0c7",
   "metadata": {},
   "outputs": [
    {
     "name": "stdin",
     "output_type": "stream",
     "text": [
      "Enter a number:  1551\n"
     ]
    },
    {
     "name": "stdout",
     "output_type": "stream",
     "text": [
      "The given number is palindrome\n"
     ]
    }
   ],
   "source": [
    "#Q8. Write a python program to check whether a given number is Palindrome or not using a while loop.\n",
    "n=int(input(\"Enter a number: \"))\n",
    "a=n\n",
    "reverse=0\n",
    "while(n!=0):\n",
    "    reverse=(reverse*10)+(n%10)\n",
    "    n=n//10;\n",
    "if(reverse==a):\n",
    "    print(\"The given number is palindrome\")\n",
    "else:\n",
    "    print(\"The given number is not palindrome\")"
   ]
  },
  {
   "cell_type": "code",
   "execution_count": 33,
   "id": "f7a86684-808a-41e9-a5ac-3fa2bfb274ce",
   "metadata": {},
   "outputs": [
    {
     "name": "stdout",
     "output_type": "stream",
     "text": [
      "[1, 3, 5, 7, 9, 11, 13, 15, 17, 19, 21, 23, 25, 27, 29, 31, 33, 35, 37, 39, 41, 43, 45, 47, 49, 51, 53, 55, 57, 59, 61, 63, 65, 67, 69, 71, 73, 75, 77, 79, 81, 83, 85, 87, 89, 91, 93, 95, 97, 99]\n"
     ]
    }
   ],
   "source": [
    "#Q9. Write a code to print odd numbers from 1 to 100 using list comprehension.\n",
    "l1=[i for i in range(1,100)]\n",
    "l2=[i for i in l1 if(i%2!=0)]\n",
    "print(l2)"
   ]
  }
 ],
 "metadata": {
  "kernelspec": {
   "display_name": "Python 3 (ipykernel)",
   "language": "python",
   "name": "python3"
  },
  "language_info": {
   "codemirror_mode": {
    "name": "ipython",
    "version": 3
   },
   "file_extension": ".py",
   "mimetype": "text/x-python",
   "name": "python",
   "nbconvert_exporter": "python",
   "pygments_lexer": "ipython3",
   "version": "3.10.8"
  }
 },
 "nbformat": 4,
 "nbformat_minor": 5
}
