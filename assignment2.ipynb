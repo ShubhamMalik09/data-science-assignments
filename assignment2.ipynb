{
 "cells": [
  {
   "cell_type": "code",
   "execution_count": 2,
   "id": "a82aa629-24d1-4458-b9b3-fa65de047cdd",
   "metadata": {
    "tags": []
   },
   "outputs": [
    {
     "data": {
      "text/plain": [
       "'Doc string comment are used inside the function to give help to the user to tell about whats the use of the function. It is given by using the triplr quotes inside the function declaration'"
      ]
     },
     "execution_count": 2,
     "metadata": {},
     "output_type": "execute_result"
    }
   ],
   "source": [
    "#Q1. How do you comment code in Python? What are the different types of comments?\n",
    "ans=\"Comments are those lines of codes or those statements which are not executed or read by the python interpreter during the execution of the code. These are used to increase the readability and rrunderstanding of the code . We use hashsign # or other method to comment a code in python\"\n",
    "\"There are 3 types of comments in python 1. Single line 2. Multiline 3.Doc string\"\n",
    "\"Single line comments are made using the hash(#) symbol, Triple quotes can also be using  Ex= #hello\"\n",
    "\"Multiline comments are made using the triple quotes\"\n",
    "'''Ex= hello\n",
    "        my\n",
    "        name is'''\n",
    "\"Doc string comment are used inside the function to give help to the user to tell about whats the use of the function. It is given by using the triplr quotes inside the function declaration\"\n",
    "    "
   ]
  },
  {
   "cell_type": "code",
   "execution_count": 3,
   "id": "f1d6bed7-bf01-42b2-bace-f7022d38afac",
   "metadata": {},
   "outputs": [
    {
     "data": {
      "text/plain": [
       "'1. a variable name always start with a character\\n   2. it cannot start with interger\\n   3. special character other than underscore(_) is not allowed'"
      ]
     },
     "execution_count": 3,
     "metadata": {},
     "output_type": "execute_result"
    }
   ],
   "source": [
    "#Q2. What are variables in Python? How do you declare and assign values to variables?\n",
    "ans=\"Variables are just like container to store data i.e a aquire a space in memory to store data and give is a name(variable_name) to access that data. In python variables are also known as identifiers\"\n",
    "ans=\"In python we don't have t declare a variable we just have to assign data to the variable in which we have to store at the assigning time\"\n",
    "ans=\"Ex= a=5 if run and print a it gives a data stored i.e 5 as output\"\n",
    "ans=\"there are some rules to create a variable name \"\n",
    "'''1. a variable name always start with a character\n",
    "   2. it cannot start with interger\n",
    "   3. special character other than underscore(_) is not allowed'''\n"
   ]
  },
  {
   "cell_type": "code",
   "execution_count": 4,
   "id": "392f0c9d-3e27-4563-b039-d9d5e651d0ca",
   "metadata": {},
   "outputs": [],
   "source": [
    "#Q3. How do you convert one data type to another in Python?\n",
    "ans=\"We can convert one data type into another by using the method of type conversion (i.e conversion of one data type into another).\"\n",
    "ans=\"In python there are two types of type conversion 1. Implicit type conversion 2. Explicit type conversion\"\n",
    "ans=\"Implicit type conversion are those conversion which are done by python interpreter itself Ex= a=5 if we use type(a) it return 'int' type but if we use type(a+2.0) it return 'float' i.e python implicitly convert the data int into float \"\n",
    "ans=\"Explicit type convrsion are those which explicitly done by the user using type conversion function Ex= a=5 we know its type is int but we then use float(a) the data inside the a will change into float data type\""
   ]
  },
  {
   "cell_type": "code",
   "execution_count": 2,
   "id": "6edd3b75-ddd8-4635-89bf-118412161316",
   "metadata": {},
   "outputs": [],
   "source": [
    "#Q4. How do you write and execute a Python script from the command line?\n",
    "ans=\"Creating a python file that can access using command line make it easier to read and fetch data \"\n",
    "ans=\"we can use or run a python file from the command line by using the following steps:\"\n",
    "ans=\"\"\"1.open cmd\n",
    "2.write cd and then path of the folder where use have the python file then press enter\n",
    "3. enter 'python file_name'\n",
    "\"\"\""
   ]
  },
  {
   "cell_type": "code",
   "execution_count": 7,
   "id": "1cbe5eb7-1998-418b-bf1a-bcb5a873bfe4",
   "metadata": {},
   "outputs": [
    {
     "data": {
      "text/plain": [
       "[2, 3]"
      ]
     },
     "execution_count": 7,
     "metadata": {},
     "output_type": "execute_result"
    }
   ],
   "source": [
    "#Q5. Given a list my_list = [1, 2, 3, 4, 5], write the code to slice the list and obtain the sub-list [2, 3].\n",
    "my_list=[1,2,3,4,5]\n",
    "my_list[1:3]"
   ]
  },
  {
   "cell_type": "code",
   "execution_count": 8,
   "id": "51dde5e9-56ab-4682-92be-8deb2a705e97",
   "metadata": {},
   "outputs": [
    {
     "name": "stdout",
     "output_type": "stream",
     "text": [
      "<class 'complex'>\n",
      "2.0\n",
      "3.0\n"
     ]
    }
   ],
   "source": [
    "#Q6. What is a complex number in mathematics, and how is it represented in Python?\n",
    "ans=\"a complex number is the sum of a real number and an imaginary number. A complex number is of the form a + ib(in mathematics) but in python complex no. has form a+bj where a is real no. and b is a imaginary no.\"\n",
    "a=2+3j\n",
    "print(type(a))\n",
    "print(a.real)\n",
    "print(a.imag)"
   ]
  },
  {
   "cell_type": "code",
   "execution_count": 9,
   "id": "b82cee75-d192-49eb-b6c4-50f443701aee",
   "metadata": {},
   "outputs": [
    {
     "data": {
      "text/plain": [
       "25"
      ]
     },
     "execution_count": 9,
     "metadata": {},
     "output_type": "execute_result"
    }
   ],
   "source": [
    "#Q7. What is the correct way to declare a variable named age and assign the value 25 to it?\n",
    "age=25\n",
    "age"
   ]
  },
  {
   "cell_type": "code",
   "execution_count": 10,
   "id": "07b61d2e-70d9-4585-8a78-fe33431633a7",
   "metadata": {},
   "outputs": [
    {
     "data": {
      "text/plain": [
       "float"
      ]
     },
     "execution_count": 10,
     "metadata": {},
     "output_type": "execute_result"
    }
   ],
   "source": [
    "#Q8. Declare a variable named price and assign the value 9.99 to it. What data type does this variable belong to?\n",
    "price=9.99\n",
    "'''It belong to float data type'''\n",
    "type(price)"
   ]
  },
  {
   "cell_type": "code",
   "execution_count": 11,
   "id": "d2462c8d-f323-4773-9cd0-f0713ca33ab6",
   "metadata": {},
   "outputs": [
    {
     "name": "stdout",
     "output_type": "stream",
     "text": [
      "Shubham Malik\n"
     ]
    }
   ],
   "source": [
    "#Q9. Create a variable named name and assign your full name to it as a string. How would you print the value of this variable?\n",
    "name=\"Shubham Malik\"\n",
    "print(name)"
   ]
  },
  {
   "cell_type": "code",
   "execution_count": 12,
   "id": "d72de1c8-2fc2-4568-98f4-26a917aad08d",
   "metadata": {},
   "outputs": [
    {
     "data": {
      "text/plain": [
       "'World'"
      ]
     },
     "execution_count": 12,
     "metadata": {},
     "output_type": "execute_result"
    }
   ],
   "source": [
    "#Q10. Given the string \"Hello, World!\", extract the substring \"World\".\n",
    "str=\"Hello, World!\"\n",
    "str[7:12]"
   ]
  },
  {
   "cell_type": "code",
   "execution_count": 13,
   "id": "4ab48957-0fa6-4f7f-b96d-e83b620b01ad",
   "metadata": {},
   "outputs": [
    {
     "name": "stdout",
     "output_type": "stream",
     "text": [
      "I am a student\n"
     ]
    }
   ],
   "source": [
    "#Q11. Create a variable named \"is_student\" and assign it a boolean value indicating whether you are currently a student or not.\n",
    "is_student=True\n",
    "if is_student:\n",
    "    print(\"I am a student\")\n",
    "else:\n",
    "    print(\"I am not a student\")"
   ]
  }
 ],
 "metadata": {
  "kernelspec": {
   "display_name": "Python 3 (ipykernel)",
   "language": "python",
   "name": "python3"
  },
  "language_info": {
   "codemirror_mode": {
    "name": "ipython",
    "version": 3
   },
   "file_extension": ".py",
   "mimetype": "text/x-python",
   "name": "python",
   "nbconvert_exporter": "python",
   "pygments_lexer": "ipython3",
   "version": "3.10.8"
  }
 },
 "nbformat": 4,
 "nbformat_minor": 5
}
