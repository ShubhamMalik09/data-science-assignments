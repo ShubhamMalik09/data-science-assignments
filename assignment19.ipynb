{
 "cells": [
  {
   "cell_type": "code",
   "execution_count": 3,
   "id": "c4548986-5cc4-4722-9636-26fa072225d1",
   "metadata": {},
   "outputs": [
    {
     "name": "stdout",
     "output_type": "stream",
     "text": [
      "0     4\n",
      "1     8\n",
      "2    15\n",
      "3    16\n",
      "4    23\n",
      "5    42\n",
      "dtype: int64\n"
     ]
    }
   ],
   "source": [
    "#Q1. Create a Pandas Series that contains the following data: 4, 8, 15, 16, 23, and 42. Then, print the series.\n",
    "import pandas as pd\n",
    "data=[4,8,15,16,23,42]\n",
    "series=pd.Series(data)\n",
    "print(series)"
   ]
  },
  {
   "cell_type": "code",
   "execution_count": 4,
   "id": "8033d4ec-890d-4705-b863-66e64cfc9fea",
   "metadata": {},
   "outputs": [
    {
     "name": "stdout",
     "output_type": "stream",
     "text": [
      "0     2\n",
      "1     4\n",
      "2     6\n",
      "3     8\n",
      "4    10\n",
      "5    12\n",
      "6    14\n",
      "7    16\n",
      "8    18\n",
      "9    20\n",
      "dtype: int64\n"
     ]
    }
   ],
   "source": [
    "#Q2. Create a variable of list type containing 10 elements in it, and apply pandas.Series function on the variable print it.\n",
    "data=[i for i in range(2,21,2)]\n",
    "series=pd.Series(data)\n",
    "print(series)"
   ]
  },
  {
   "cell_type": "code",
   "execution_count": 8,
   "id": "bc41e901-3422-459d-af40-4ca185515e56",
   "metadata": {},
   "outputs": [
    {
     "name": "stdout",
     "output_type": "stream",
     "text": [
      "     name  age  gender\n",
      "0   alice   25  female\n",
      "1     bob   30    male\n",
      "2  claire   27  female\n"
     ]
    }
   ],
   "source": [
    "#Q3. Create a Pandas DataFrame that contains the following data. Then, print the DataFrame.\n",
    "data={\"name\":['alice','bob','claire'],\n",
    "     \"age\":[25,30,27],\n",
    "     \"gender\":['female','male','female']}\n",
    "\n",
    "df=pd.DataFrame(data)\n",
    "print(df)"
   ]
  },
  {
   "cell_type": "code",
   "execution_count": 10,
   "id": "89599d5e-1016-45b7-b97c-7d03c5602629",
   "metadata": {},
   "outputs": [
    {
     "name": "stdout",
     "output_type": "stream",
     "text": [
      "Pandas Series:\n",
      "0    10\n",
      "1    20\n",
      "2    30\n",
      "3    40\n",
      "4    50\n",
      "dtype: int64\n",
      "\n",
      "Pandas Dataframe\n",
      "      Name  Age      City\n",
      "0    Alice   25  New York\n",
      "1      Bob   30    London\n",
      "2  Charlie   22     Paris\n",
      "3    David   28     Tokyo\n",
      "4      Eve   35    Sydney\n"
     ]
    }
   ],
   "source": [
    "#Q4. What is ‘DataFrame’ in pandas and how is it different from pandas.series? Explain with an example.\n",
    "sol=\"In Pandas, a DataFrame is a 2-dimensional labeled data structure, similar to a table in a relational database.\\\n",
    "It consists of rows and columns, where each column can contain different data types.\\\n",
    "On the other hand, a Pandas Series is a 1-dimensional labeled data structure, similar to a one-dimensional array or a list.\\\n",
    "It is essentially a single column of data with associated labels or indices.\\\n",
    "Series can contain data of the same data type, and they are often used to represent a single variable or attribute.\"\n",
    "\n",
    "series= pd.Series([10, 20, 30, 40, 50])\n",
    "print(\"Pandas Series:\")\n",
    "print(series)\n",
    "\n",
    "print()\n",
    "\n",
    "data = {\n",
    "    'Name': ['Alice', 'Bob', 'Charlie', 'David', 'Eve'],\n",
    "    'Age': [25, 30, 22, 28, 35],\n",
    "    'City': ['New York', 'London', 'Paris', 'Tokyo', 'Sydney']\n",
    "}\n",
    "\n",
    "df = pd.DataFrame(data)\n",
    "print(\"Pandas Dataframe\")\n",
    "print(df)"
   ]
  },
  {
   "cell_type": "code",
   "execution_count": 3,
   "id": "dc2ee1f8-c21d-4ff3-b1bf-cb30b066f2e5",
   "metadata": {},
   "outputs": [
    {
     "name": "stdout",
     "output_type": "stream",
     "text": [
      "First 5 rows of the DataFrame:\n",
      "      Name  Age      City\n",
      "0    Alice   25  New York\n",
      "1      Bob   30    London\n",
      "2  Charlie   22     Paris\n",
      "3    David   28     Tokyo\n",
      "4      Eve   35    Sydney\n"
     ]
    }
   ],
   "source": [
    "#Q5. What are some common functions you can use to manipulate data in a Pandas DataFrame?\n",
    "#Can you give an example of when you might use one of these functions?\n",
    "sol=\"Pandas provides a wide range of functions to manipulate data in a DataFrame. Some common functions include head(), info(), describe(), etc \\\n",
    "1. head() = These functions allow you to view the first 5 rows  of the DataFrame.\\\n",
    "2. info() = This function provides a summary of the DataFrame, including the data types of columns and information about missing values.\\\n",
    "It helps in understanding the structure of the data.\\\n",
    "3. drop() = This function is used to remove rows or columns from the DataFrame based on the specified labels or indices.\\\n",
    "4. groupby() = This function is used for grouping data based on one or more columns. It allows for aggregation and analysis of data within the groups.\"\n",
    "\n",
    "import pandas as pd\n",
    "data = {\n",
    "    'Name': ['Alice', 'Bob', 'Charlie', 'David', 'Eve'],\n",
    "    'Age': [25, 30, 22, 28, 35],\n",
    "    'City': ['New York', 'London', 'Paris', 'Tokyo', 'Sydney']\n",
    "}\n",
    "\n",
    "df = pd.DataFrame(data)\n",
    "print(\"First 5 rows of the DataFrame:\")\n",
    "print(df.head())"
   ]
  },
  {
   "cell_type": "code",
   "execution_count": null,
   "id": "70fddbc1-0872-48ac-89a3-0bd5d27a5c2b",
   "metadata": {},
   "outputs": [],
   "source": [
    "#Q6. Which of the following is mutable in nature Series, DataFrame, Panel?\n",
    "sol=\"In Pandas, both the DataFrame and the Panel are mutable data structures, meaning their values can be changed or modified after they are created.\\\n",
    "On the other hand, a Series is immutable, which means its elements cannot be changed once the Series is created.\""
   ]
  },
  {
   "cell_type": "code",
   "execution_count": 4,
   "id": "59b26e11-4437-4adc-b96a-c48018ad4c20",
   "metadata": {},
   "outputs": [
    {
     "name": "stdout",
     "output_type": "stream",
     "text": [
      "     names  age      city\n",
      "0    Alice   25  New York\n",
      "1      Bob   30    London\n",
      "2  Charlie   22     Paris\n",
      "3    David   28     Tokyo\n",
      "4      Eve   35    Sydney\n"
     ]
    }
   ],
   "source": [
    "#Q7. Create a DataFrame using multiple Series. Explain with an example.\n",
    "sol=\"In Pandas, we can create a DataFrame using multiple Series. Each Series will represent a column in the DataFrame.\\\n",
    "The length of all Series must be the same, as they will be combined into the DataFrame based on their indices.\"\n",
    "\n",
    "names = pd.Series(['Alice', 'Bob', 'Charlie', 'David', 'Eve'])\n",
    "age=pd.Series([25, 30, 22, 28, 35])\n",
    "city=pd.Series(['New York', 'London', 'Paris', 'Tokyo', 'Sydney'])\n",
    "\n",
    "data={\"names\":names,\n",
    "      \"age\":age,\n",
    "     \"city\":city}\n",
    "df=pd.DataFrame(data)\n",
    "print(df)"
   ]
  }
 ],
 "metadata": {
  "kernelspec": {
   "display_name": "Python 3 (ipykernel)",
   "language": "python",
   "name": "python3"
  },
  "language_info": {
   "codemirror_mode": {
    "name": "ipython",
    "version": 3
   },
   "file_extension": ".py",
   "mimetype": "text/x-python",
   "name": "python",
   "nbconvert_exporter": "python",
   "pygments_lexer": "ipython3",
   "version": "3.10.8"
  }
 },
 "nbformat": 4,
 "nbformat_minor": 5
}
