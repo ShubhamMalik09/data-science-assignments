{
 "cells": [
  {
   "cell_type": "code",
   "execution_count": null,
   "id": "c261907e-1155-4791-b4e6-5ca380edf834",
   "metadata": {},
   "outputs": [],
   "source": [
    "#Q1. What is an API? Give an example, where an API is used in real life.\n",
    "sol=\"API stands for Application Programming Interface. It is a set of rules and protocols that allows different\\\n",
    "software applications to communicate and interact with each other.\\\n",
    "APIs define the methods and data formats that applications can use to request and exchange information.\\\n",
    "\n",
    "A common example of an API in real life is the integration of third-party services like use of weather app on our smartphone,\\\n",
    "it likely obtains weather data from a weather service provider through their API.The app sends a request to the weather service API\\\n",
    "with location details, and the API returns weather information (e.g., temperature, humidity, forecast) in a structured format\""
   ]
  },
  {
   "cell_type": "code",
   "execution_count": null,
   "id": "55695bc9-150f-4020-87ef-7b33ebd32331",
   "metadata": {},
   "outputs": [],
   "source": [
    "#Q2. Give advantages and disadvantages of using API.\n",
    "# Advantages of using API\n",
    "sol=\"1. Modularity and Reusability: APIs promote modularity in software development, allowing different components\\\n",
    "to be built independently and reused across multiple applications, reducing development time and effort.\\\n",
    "\n",
    "2.Interoperability: API solutions enable different software systems to communicate with each other, regardless of their\\\n",
    "programming language or platform.\\\n",
    "\n",
    "3. Security and Access Control: APIs offer controlled access to data and functionalities, allowing developers to implement\\\n",
    "security measures and restrict unauthorized access to sensitive information.\"\n",
    "\n",
    "# Disadvantages of using API\n",
    "sol=\"1. Performance Overhead: Overuse of APIs can introduce performance overhead due to additional network requests and data processing.\\\n",
    "\n",
    "2.Privacy Concerns: Integrating external APIs may expose sensitive data to third-party services, raising data privacy and security concerns.\\\n",
    "\n",
    "3. Vulnerability: APIs are vulnerable to man-in-the-middle attacks, CSRF attacks, XSS attacks, SQL injection, and DDoS attacks.\""
   ]
  },
  {
   "cell_type": "code",
   "execution_count": null,
   "id": "3b2f13e7-90a3-49f0-8bd7-d6c36b48040d",
   "metadata": {},
   "outputs": [],
   "source": [
    "#Q3. What is a Web API? Differentiate between API and Web API.\n",
    "sol=\"A Web API, also known as a Web Service API, is a type of API that is specifically designed to be accessed over the internet\\\n",
    "using HTTP (Hypertext Transfer Protocol). Web APIs allow different applications to interact and exchange data over the web.\\\n",
    "They typically use standard web protocols, such as HTTP and REST (Representational State Transfer), to communicate.\"\n",
    "\n",
    "# Difference between API and Web API\n",
    "sol=\"The main difference between API and Web API lies in their scope and communication methods.\\\n",
    "API is a broader term that encompasses all types of interfaces that facilitate interactions between different software components.\\\n",
    "On the other hand, Web API is a specific type of API that focuses on enabling communication over the internet \\\n",
    "using standard web protocols like HTTP. In summary, all Web APIs are APIs, but not all APIs are Web APIs.\""
   ]
  },
  {
   "cell_type": "code",
   "execution_count": null,
   "id": "317dd071-706f-4b9d-95f5-4cfcda823b7c",
   "metadata": {},
   "outputs": [],
   "source": [
    "#Q4. Explain REST and SOAP Architecture. Mention shortcomings of SOAP.\n",
    "sol=\"REST is an architectural style that defines a set of constraints for creating web services.\\\n",
    "It emphasizes simplicity, scalability, and statelessness. In REST architecture, resources are identified by URLs, \\\n",
    "and interactions with these resources are performed using standard HTTP methods like GET, POST, PUT, DELETE, etc.\\\n",
    "RESTful APIs use HTTP status codes and responses in a human-readable format, such as JSON or XML.\\\n",
    "\n",
    "SOAP is a protocol for exchanging structured information in the implementation of web services.\\\n",
    "It relies on XML for message format and typically uses HTTP, SMTP, TCP, or other transport protocols for message transmission.\\\n",
    "It offers more comprehensive security and transaction support compared to REST.\"\n",
    "\n",
    "# Shortcomings of SOAP\n",
    "sol=\"1. Complexity: SOAP messages are complex due to their XML-based format, making them less human-readable and increasing message size.\\\n",
    "\n",
    "2.Performance Overhead: XML parsing and processing in SOAP can lead to higher performance overhead compared\\\n",
    "to simpler data formats like JSON in REST.\\\n",
    "\n",
    "3. More Strict Standardization: Due to its rigid standards and contracts, SOAP can be less flexible in \\\n",
    "accommodating changes or evolving requirements.\""
   ]
  },
  {
   "cell_type": "code",
   "execution_count": null,
   "id": "46b7042d-8cf1-4331-8786-88229e66f141",
   "metadata": {},
   "outputs": [],
   "source": [
    "#Q5. Differentiate between REST and SOAP.\n",
    "sol=\"REST is an architectural style that emphasizes simplicity and flexibility. It uses standard HTTP methods\\\n",
    "and lightweight data formats like JSON. It follows a stateless client-server model and does not enforce strict contract definitions.\\\n",
    "\n",
    "SOAP, on the other hand, is a protocol with a strict set of rules and standards. It uses XML for message format\\\n",
    "and supports stateful communication. It emphasizes strict contract definitions for ensuring interoperability.\\\n",
    "\n",
    "While SOAP is more comprehensive in terms of security and transactions, REST's simplicity and widespread adoption\\\n",
    "have made it the preferred choice for most modern web services and APIs.\""
   ]
  }
 ],
 "metadata": {
  "kernelspec": {
   "display_name": "Python 3 (ipykernel)",
   "language": "python",
   "name": "python3"
  },
  "language_info": {
   "codemirror_mode": {
    "name": "ipython",
    "version": 3
   },
   "file_extension": ".py",
   "mimetype": "text/x-python",
   "name": "python",
   "nbconvert_exporter": "python",
   "pygments_lexer": "ipython3",
   "version": "3.10.8"
  }
 },
 "nbformat": 4,
 "nbformat_minor": 5
}
