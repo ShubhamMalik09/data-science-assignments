{
 "cells": [
  {
   "cell_type": "code",
   "execution_count": null,
   "id": "10e10d25-f1dd-4593-9c4b-bc231c0d43d9",
   "metadata": {},
   "outputs": [],
   "source": [
    "#Q1. What is MongoDB? Explain non-relational databases in short. In which scenarios it is preferred to use MongoDB over SQL databases?\n",
    "sol=\"MongoDB is a open-source NoSQL database that belongs to the category of non-relational databases. \\\n",
    "It stores data in flexible, JSON-like documents, making it suitable for handling unstructured or semi-structured data.\\\n",
    "MongoDB provides high scalability, high availability etc. making it well-suited for large-scale applications and real-time data.\"\n",
    "\n",
    "sol=\"Non-relational databases, also known as NoSQL databases, are designed to store and manage unstructured or semi-structured data.\\\n",
    "NoSQL databases provide various data models, including key-value stores etc, to handle diverse data types\"\n",
    "\n",
    "sol=\"MongoDB is preferred over SQL databases in scenarios requiring high scalability, flexible data schema, real-time data processing,\\\n",
    "and applications dealing with unstructured or rapidly changing data. Its ability to handle large-scale and distributed environments\\\n",
    "makes it a popular choice for modern web and mobile applications\""
   ]
  },
  {
   "cell_type": "code",
   "execution_count": null,
   "id": "fbb12b67-d881-466b-9dbe-2b0f81194d67",
   "metadata": {},
   "outputs": [],
   "source": [
    "#Q2. State and Explain the features of MongoDB.\n",
    "sol=\"1. Schema-less Database:  A Schema-less database means one collection can hold different types of documents in it,\\\n",
    "i.e. in the MongoDB database, a single collection can hold multiple documents and these documents may consist of the different numbers of fields,\\\n",
    "content, and size.\\\n",
    "\n",
    "2. Document Oriented: In MongoDB, all the data stored in the documents instead of tables like in RDBMS.\\\n",
    "In these documents, the data is stored in fields(key-value pair) instead of rows and columns which make the data much more flexible\\\n",
    "in comparison to RDBMS.\\\n",
    "\n",
    "3. Indexing: In MongoDB database, every field in the documents is indexed with primary and secondary indices\\\n",
    "this makes easier and takes less time to get or search data from the pool of the data.\\\n",
    "\n",
    "4. Replication: MongoDB provides high availability and redundancy with the help of replication,\\\n",
    "it creates multiple copies of the data and sends these copies to a different server so that if one server fails,\\\n",
    "then the data is retrieved from another server.\\\n",
    "\n",
    "5. High Performance: The performance of MongoDB is very high and data persistence as compared to another database due to its features\\\n",
    "like scalability, indexing, replication, etc.\""
   ]
  },
  {
   "cell_type": "code",
   "execution_count": null,
   "id": "856b74a9-77e1-46c3-be22-d9ba4b329c49",
   "metadata": {},
   "outputs": [],
   "source": [
    "#Q3. Write a code to connect MongoDB to Python. Also, create a database and a collection in MongoDB.\n",
    "import pymongo\n",
    "client = pymongo.MongoClient(mongo_url)\n",
    "db=client[\"mydatabase\"]\n",
    "col_data=db[\"my_record\"]\n",
    "data = {\"name\": \"John Doe\", \"age\": 30, \"city\": \"New York\"}\n",
    "col_data.insert_one(data)"
   ]
  },
  {
   "cell_type": "code",
   "execution_count": null,
   "id": "a9382667-f497-4e6a-92c2-f4f27dfab387",
   "metadata": {},
   "outputs": [],
   "source": [
    "#Q4. Using the database and the collection created in question number 3, write a code to insert one record,\n",
    "#and insert many records. Use the find() and find_one() methods to print the inserted record.\n",
    "import pymongo\n",
    "client = pymongo.MongoClient(mongo_url)\n",
    "db=client[\"mydatabase\"]\n",
    "col_data=db[\"my_record\"]\n",
    "\n",
    "data_one = {\"name\": \"Alice\", \"age\": 25, \"city\": \"London\"}\n",
    "col_data.insert_one(data_one)\n",
    "\n",
    "data_many = [\n",
    "    {\"name\": \"Bob\", \"age\": 30, \"city\": \"New York\"},\n",
    "    {\"name\": \"Charlie\", \"age\": 22, \"city\": \"Tokyo\"},\n",
    "    {\"name\": \"Diana\", \"age\": 28, \"city\": \"Paris\"}\n",
    "]\n",
    "col_data.insert_many(data_many)\n",
    "\n",
    "record1=col_data.find_one({'name':'Bob'})\n",
    "print(record1)\n",
    "\n",
    "all_record=col_data.find()\n",
    "for record in all_record:\n",
    "    print(record)"
   ]
  },
  {
   "cell_type": "code",
   "execution_count": null,
   "id": "6f2ab401-4a0d-4ee8-835c-cde8a97ced5e",
   "metadata": {},
   "outputs": [],
   "source": [
    "#Q5. Explain how you can use the find() method to query the MongoDB database. Write a simple code to demonstrate this.\n",
    "sol=\"In MongoDB, the find() method is used to query the database and retrieve documents that match the specified criteria.\\\n",
    "It allows to perform queries with filtering conditions to retrieve specific data from the collection.\"\n",
    "\n",
    "import pymongo\n",
    "client = pymongo.MongoClient(mongo_url)\n",
    "db=client[\"mydatabase\"]\n",
    "col_data=db[\"my_record\"]\n",
    "\n",
    "data_many = [\n",
    "    {\"name\": \"Alice\", \"age\": 25, \"city\": \"London\"},\n",
    "    {\"name\": \"Bob\", \"age\": 30, \"city\": \"New York\"},\n",
    "    {\"name\": \"Charlie\", \"age\": 22, \"city\": \"Tokyo\"},\n",
    "    {\"name\": \"Diana\", \"age\": 28, \"city\": \"Paris\"}\n",
    "]\n",
    "col_data.insert_many(data_many)\n",
    "\n",
    "query = {\"age\": {\"$gt\": 25}}\n",
    "results = col_data.find(query)\n",
    "print(\"Documents with age greater than 25:\")\n",
    "for document in results:\n",
    "    print(document)"
   ]
  },
  {
   "cell_type": "code",
   "execution_count": null,
   "id": "4496d1bc-4db0-4c96-8fb5-ea564f549c6a",
   "metadata": {},
   "outputs": [],
   "source": [
    "#Q6. Explain the sort() method. Give an example to demonstrate sorting in MongoDB.\n",
    "sol=\"n MongoDB, the sort() method is used to sort the results of a query in a specified order.\\\n",
    "It allows us to arrange the retrieved documents in ascending or descending order based on one or more fields.\\\n",
    "The sort() method takes a dictionary as an argument, where each key represents the field to be sorted,\\\n",
    "and its corresponding value defines the sorting order. The value can be 1 for ascending order or -1 for descending order.\"\n",
    "\n",
    "import pymongo\n",
    "client = pymongo.MongoClient(mongo_url)\n",
    "db=client[\"mydatabase\"]\n",
    "col_data=db[\"my_record\"]\n",
    "\n",
    "data_many = [\n",
    "    {\"name\": \"Alice\", \"age\": 25, \"city\": \"London\"},\n",
    "    {\"name\": \"Bob\", \"age\": 30, \"city\": \"New York\"},\n",
    "    {\"name\": \"Charlie\", \"age\": 22, \"city\": \"Tokyo\"},\n",
    "    {\"name\": \"Diana\", \"age\": 28, \"city\": \"Paris\"}\n",
    "]\n",
    "col_data.insert_many(data_many)\n",
    "\n",
    "results_desc = col_data.find().sort(\"name\", -1)\n",
    "\n",
    "print(\"Documents sorted by name in descending order:\")\n",
    "for document in results_desc:\n",
    "    print(document)"
   ]
  },
  {
   "cell_type": "code",
   "execution_count": null,
   "id": "103c3b44-4b03-4b1d-a608-7cdcca5ad7c6",
   "metadata": {},
   "outputs": [],
   "source": [
    "#Q7. Explain why delete_one(), delete_many(), and drop() is used.\n",
    "\n",
    "# delete_one()\n",
    "sol=\"The delete_one() method is used to delete a single document that matches a specified filter condition.\\\n",
    "It removes the first document that satisfies the filter\"\n",
    "\n",
    "# delete_many\n",
    "sol=\"The delete_many() method is used to delete multiple documents that match a specified filter condition.\\\n",
    "It removes all documents that satisfy the filter.\"\n",
    "\n",
    "# drop()\n",
    "sol=\"The drop() method is used to delete an entire collection from the database.\\\n",
    "drop() is a collection-level operation and does not require a filter.\""
   ]
  }
 ],
 "metadata": {
  "kernelspec": {
   "display_name": "Python 3 (ipykernel)",
   "language": "python",
   "name": "python3"
  },
  "language_info": {
   "codemirror_mode": {
    "name": "ipython",
    "version": 3
   },
   "file_extension": ".py",
   "mimetype": "text/x-python",
   "name": "python",
   "nbconvert_exporter": "python",
   "pygments_lexer": "ipython3",
   "version": "3.10.8"
  }
 },
 "nbformat": 4,
 "nbformat_minor": 5
}
