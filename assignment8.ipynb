{
 "cells": [
  {
   "cell_type": "code",
   "execution_count": 1,
   "id": "c20760aa-7949-4df6-a579-53af8e0935bf",
   "metadata": {},
   "outputs": [],
   "source": [
    "#Q1. What is an Exception in python? Write the difference between Exceptions and Syntax errors\n",
    "sol=\"In Python, an exception is an error that occurs during the execution of a program. When that error occurs,\\\n",
    "Python generates an exception that can be handled.  Exceptions can be raised by the programmer or by the interpreter itself\\\n",
    "while syntax errors are different from exceptions. Syntax errors occur when the interpreter detects an incorrect statement.\\\n",
    "These errors cannot be handled by the program and cause the program to terminate abruptly\\\n",
    "Exceptions occur during the runtime of the program whereas syntax errors occur before the program starts executing when there is violation of the\\\n",
    "python syntax rule.\""
   ]
  },
  {
   "cell_type": "code",
   "execution_count": 2,
   "id": "1b3a6caa-1d68-4682-a509-c09382a742b8",
   "metadata": {},
   "outputs": [
    {
     "ename": "ZeroDivisionError",
     "evalue": "division by zero",
     "output_type": "error",
     "traceback": [
      "\u001b[0;31m---------------------------------------------------------------------------\u001b[0m",
      "\u001b[0;31mZeroDivisionError\u001b[0m                         Traceback (most recent call last)",
      "Cell \u001b[0;32mIn[2], line 6\u001b[0m\n\u001b[1;32m      4\u001b[0m num1\u001b[38;5;241m=\u001b[39m\u001b[38;5;241m10\u001b[39m\n\u001b[1;32m      5\u001b[0m num2\u001b[38;5;241m=\u001b[39m\u001b[38;5;241m0\u001b[39m\n\u001b[0;32m----> 6\u001b[0m \u001b[38;5;28mprint\u001b[39m(\u001b[43mnum1\u001b[49m\u001b[38;5;241;43m/\u001b[39;49m\u001b[43mnum2\u001b[49m)\n\u001b[1;32m      7\u001b[0m sol\u001b[38;5;241m=\u001b[39m\u001b[38;5;124m\"\u001b[39m\u001b[38;5;124mWhen the above code is executed, the program will raise a ZeroDivisionError and terminate\u001b[39m\u001b[38;5;124m\"\u001b[39m\n",
      "\u001b[0;31mZeroDivisionError\u001b[0m: division by zero"
     ]
    }
   ],
   "source": [
    "#Q2. What happens when an exception is not handled? Explain with an example.\n",
    "sol=\"When an exception is not handled in Python, it leads to the termination of the program, and an error message is displayed\\\n",
    "Ex.\"\n",
    "num1=10\n",
    "num2=0\n",
    "print(num1/num2)\n",
    "sol=\"When the above code is executed, the program will raise a ZeroDivisionError and terminate\""
   ]
  },
  {
   "cell_type": "code",
   "execution_count": 3,
   "id": "76f830e7-7521-4f29-b5fe-2ea48638bfe0",
   "metadata": {},
   "outputs": [
    {
     "name": "stdout",
     "output_type": "stream",
     "text": [
      "Cannot divide by zero\n"
     ]
    }
   ],
   "source": [
    "#Q3. Which Python statements are used to catch and handle exceptions? Explain with an example\n",
    "sol=\"In Python, (the try, except, else, and finally) statements are used to catch and handle exceptions.\\\n",
    "The try-except block allows to execute a piece of code that might raise an exception, and if an exception occurs,\\\n",
    "it is caught by the except block, where we can specify how to handle the exception.\\\n",
    "The else block is executed when no exception occurs, and the finally block is always executed, whether an exception is raised or not.\\\n",
    "Ex:\"\n",
    "num1=10\n",
    "num2=0\n",
    "try:\n",
    "    print(num1/num2)\n",
    "except ZeroDivisionError:\n",
    "    print(\"Cannot divide by zero\")\n"
   ]
  },
  {
   "cell_type": "code",
   "execution_count": 4,
   "id": "82766f9f-4f28-4c13-8c35-d2b1a929db02",
   "metadata": {},
   "outputs": [
    {
     "name": "stdout",
     "output_type": "stream",
     "text": [
      "5.0\n",
      "\n",
      "Cannot divide by zero\n",
      "Divison operation completed successfully\n",
      "\n"
     ]
    },
    {
     "ename": "Exception",
     "evalue": "Please provide num1 greater than num2",
     "output_type": "error",
     "traceback": [
      "\u001b[0;31m---------------------------------------------------------------------------\u001b[0m",
      "\u001b[0;31mException\u001b[0m                                 Traceback (most recent call last)",
      "Cell \u001b[0;32mIn[4], line 37\u001b[0m\n\u001b[1;32m     35\u001b[0m num2\u001b[38;5;241m=\u001b[39m\u001b[38;5;241m20\u001b[39m\n\u001b[1;32m     36\u001b[0m \u001b[38;5;28;01mif\u001b[39;00m(num1\u001b[38;5;241m<\u001b[39mnum2):\n\u001b[0;32m---> 37\u001b[0m     \u001b[38;5;28;01mraise\u001b[39;00m \u001b[38;5;167;01mException\u001b[39;00m(\u001b[38;5;124m\"\u001b[39m\u001b[38;5;124mPlease provide num1 greater than num2\u001b[39m\u001b[38;5;124m\"\u001b[39m)\n\u001b[1;32m     38\u001b[0m \u001b[38;5;28;01melse\u001b[39;00m:\n\u001b[1;32m     39\u001b[0m     \u001b[38;5;28mprint\u001b[39m(num1\u001b[38;5;241m-\u001b[39mnum2)\n",
      "\u001b[0;31mException\u001b[0m: Please provide num1 greater than num2"
     ]
    }
   ],
   "source": [
    "#Q4. Explain with an example:\n",
    "#a. try and else\n",
    "sol=\"In Python, the try and else statements work together within a try-except block. The try block is used to enclose the code\\\n",
    "that might raise an exception. If no exception occurs in the try block, the code inside the else block is executed\\\n",
    "Ex:\"\n",
    "num1=10\n",
    "num2=2\n",
    "try:\n",
    "    result=num1/num2\n",
    "except ZeroDivisionError:\n",
    "    print(\"Cannot divide by zero\")\n",
    "else:\n",
    "    print(result)\n",
    "print()\n",
    "\n",
    "#b. finally\n",
    "sol=\"In Python, the finally statement is used in conjunction with a try-except block. The finally block contains the code that should\\\n",
    "always be executed, regardless of whether an exception is raised or not.\\\n",
    "Ex:\"\n",
    "num1=10\n",
    "num2=0\n",
    "try:\n",
    "    print(num1/num2)\n",
    "except ZeroDivisionError:\n",
    "    print(\"Cannot divide by zero\")\n",
    "finally:\n",
    "    print(\"Divison operation completed successfully\")\n",
    "print()\n",
    "\n",
    "#c. raise\n",
    "sol=\"In Python, the raise statement is used to raise an exception manually. It allow us to create and raise custom exceptions.\\\n",
    "When the raise statement is executed, the program flow is interrupted, and the specified exception is raised\\\n",
    "Ex:\"\n",
    "num1=10\n",
    "num2=20\n",
    "if(num1<num2):\n",
    "    raise Exception(\"Please provide num1 greater than num2\")\n",
    "else:\n",
    "    print(num1-num2)\n"
   ]
  },
  {
   "cell_type": "code",
   "execution_count": 2,
   "id": "af5652e6-aa18-4517-bb84-1db90c876dec",
   "metadata": {},
   "outputs": [
    {
     "name": "stdin",
     "output_type": "stream",
     "text": [
      "Enter a number:  17\n"
     ]
    },
    {
     "name": "stdout",
     "output_type": "stream",
     "text": [
      "Exception occurred: Invalid Age\n"
     ]
    }
   ],
   "source": [
    "#Q5. What are Custom Exceptions in python? Why do we need Custom Exceptions? Explain with an example\n",
    "sol=\"Custom exceptions are user-defined exceptions that are used to raise an exception with a custom message.\\\n",
    "In Python, we can define custom exceptions by creating a new class that is derived from the built-in Exception class.\\\n",
    "Ex:\"\n",
    "class InvalidAge(Exception):\n",
    "    \"Raised when the input value is less than 18\"\n",
    "    pass\n",
    "try:\n",
    "    num = int(input(\"Enter a number: \"))\n",
    "    if num < 18:\n",
    "        raise InvalidAge\n",
    "    else:\n",
    "        print(\"Eligible to Vote\")\n",
    "except InvalidAge:\n",
    "    print(\"Exception occurred: Invalid Age\")"
   ]
  },
  {
   "cell_type": "code",
   "execution_count": 8,
   "id": "79828f00-2ba0-45a7-9884-cbc9ca6c5bf1",
   "metadata": {},
   "outputs": [
    {
     "name": "stdout",
     "output_type": "stream",
     "text": [
      "20 is higher than 10\n"
     ]
    }
   ],
   "source": [
    "#Q6. Create custom exception class. Use this class to handle an exception.\n",
    "class ValueTooHighError(Exception):\n",
    "    def __init__(self, value, limit):\n",
    "        self.value = value\n",
    "        self.limit = limit\n",
    "        message=f\"{value} is higher than {limit}\"\n",
    "        super().__init__(message)\n",
    "\n",
    "def check_value(value, limit):\n",
    "    if value > limit:\n",
    "        raise ValueTooHighError(value, limit)\n",
    "    else:\n",
    "        print(\"Value within the limit.\")\n",
    "try:\n",
    "    check_value(20, 10) \n",
    "except ValueTooHighError as e:\n",
    "    print(e)"
   ]
  }
 ],
 "metadata": {
  "kernelspec": {
   "display_name": "Python 3 (ipykernel)",
   "language": "python",
   "name": "python3"
  },
  "language_info": {
   "codemirror_mode": {
    "name": "ipython",
    "version": 3
   },
   "file_extension": ".py",
   "mimetype": "text/x-python",
   "name": "python",
   "nbconvert_exporter": "python",
   "pygments_lexer": "ipython3",
   "version": "3.10.8"
  }
 },
 "nbformat": 4,
 "nbformat_minor": 5
}
