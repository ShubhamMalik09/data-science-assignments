{
 "cells": [
  {
   "cell_type": "code",
   "execution_count": 4,
   "id": "2da11b35-6437-4334-b2bf-2e37dede9701",
   "metadata": {},
   "outputs": [],
   "source": [
    "#Q1, Create a vehicle class with an init method having instance variables as name_of_vehicle, max_speed and average_of_vehicle.\n",
    "class vehicle:\n",
    "    def __init__(self,name_of_vehicle,max_speed,average_of_vehicle):\n",
    "        self.name_of_vehicle=name_of_vehicle\n",
    "        self.max_speed=max_speed\n",
    "        self.average_of_vehicle=average_of_vehicle"
   ]
  },
  {
   "cell_type": "code",
   "execution_count": 9,
   "id": "c5c888f7-94a7-467f-8d65-fa6f552e4944",
   "metadata": {},
   "outputs": [
    {
     "name": "stdout",
     "output_type": "stream",
     "text": [
      "toyota seating capacity is 5\n"
     ]
    }
   ],
   "source": [
    "#Q2. Create a child class car from the vehicle class created in Que 1, which will inherit the vehicle class. Create a method named seating_capacity which takes capacity as an argument and returns the name of the vehicle and its seating capacity.\n",
    "class car(vehicle):\n",
    "    def __init__(self, name_of_vehicle, max_speed, average_of_vehicle):\n",
    "        super().__init__(name_of_vehicle, max_speed, average_of_vehicle)\n",
    "    def seating_capacity(self,capacity):\n",
    "        self.capacity=capacity\n",
    "        return f\"{self.name_of_vehicle} seating capacity is {self.capacity}\" \n",
    "mycar=car(\"toyota\",200,50)\n",
    "print(mycar.seating_capacity(5))"
   ]
  },
  {
   "cell_type": "code",
   "execution_count": 13,
   "id": "9fbaabd7-5118-4008-b8fb-cfd873ca6f6f",
   "metadata": {},
   "outputs": [
    {
     "name": "stdout",
     "output_type": "stream",
     "text": [
      "Sparrow is eating.\n",
      "Sparrow is flying.\n"
     ]
    }
   ],
   "source": [
    "#Q3. What is multiple inheritance? Write a python code to demonstrate multiple inheritance.\n",
    "sol=\"Multiple inheritance is a feature in OOPs where a class can inherit attributes and methods from more than one parent class. This allows a child class to inherit and combine the characteristics of multiple parent classes.\"\n",
    "\n",
    "class Eat:\n",
    "    def eat(self):\n",
    "        print(f\"{self.name} is eating.\")\n",
    "\n",
    "class Fly:\n",
    "    def fly(self):\n",
    "        print(f\"{self.name} is flying.\")\n",
    "\n",
    "\n",
    "class Bird(Eat, Fly):\n",
    "    def __init__(self, name):\n",
    "        self.name=name\n",
    "\n",
    "\n",
    "bird = Bird(\"Sparrow\")\n",
    "bird.eat()\n",
    "bird.fly()"
   ]
  },
  {
   "cell_type": "code",
   "execution_count": 17,
   "id": "649d10fb-44a4-4383-994c-bb54b8c770db",
   "metadata": {},
   "outputs": [
    {
     "name": "stdout",
     "output_type": "stream",
     "text": [
      "george\n",
      "\n",
      "sam\n"
     ]
    }
   ],
   "source": [
    "#Q4. What are getter and setter in python? Create a class and create a getter and a setter method in this class.\n",
    "sol=\"In Python, getter and setter are methods used to access (get) and modify (set) the values of instance variables of a class, respectively. \"\n",
    "class Person:\n",
    "    def __init__(self,name):\n",
    "        self.name=name\n",
    "    def get_name(self):\n",
    "        print(self.name)\n",
    "    def set_name(self,name):\n",
    "        self.name=name\n",
    "a=Person(\"george\")\n",
    "a.get_name()\n",
    "print()\n",
    "a.set_name('sam')\n",
    "a.get_name()"
   ]
  },
  {
   "cell_type": "code",
   "execution_count": 18,
   "id": "6e7cc675-a1fc-4bf9-8a78-be168289a244",
   "metadata": {},
   "outputs": [
    {
     "name": "stdout",
     "output_type": "stream",
     "text": [
      "This is a vehicle.\n",
      "This is a car.\n"
     ]
    }
   ],
   "source": [
    "# Q5.What is method overriding in python? Write a python code to demonstrate method overriding.\n",
    "sol=\"Method overriding in Python occurs when a subclass provides a different implementation of a method that is already defined in its parent class. The method in the subclass overrides the implementation of the same-named method in the parent class.\"\n",
    "class Vehicle:\n",
    "    def display_info(self):\n",
    "        print(\"This is a vehicle.\")\n",
    "\n",
    "\n",
    "class Car(Vehicle):\n",
    "    def display_info(self):\n",
    "        print(\"This is a car.\")\n",
    "\n",
    "\n",
    "vehicle = Vehicle()\n",
    "vehicle.display_info() \n",
    "\n",
    "car = Car()\n",
    "car.display_info()  # Output: This is a car.\n"
   ]
  }
 ],
 "metadata": {
  "kernelspec": {
   "display_name": "Python 3 (ipykernel)",
   "language": "python",
   "name": "python3"
  },
  "language_info": {
   "codemirror_mode": {
    "name": "ipython",
    "version": 3
   },
   "file_extension": ".py",
   "mimetype": "text/x-python",
   "name": "python",
   "nbconvert_exporter": "python",
   "pygments_lexer": "ipython3",
   "version": "3.10.8"
  }
 },
 "nbformat": 4,
 "nbformat_minor": 5
}
