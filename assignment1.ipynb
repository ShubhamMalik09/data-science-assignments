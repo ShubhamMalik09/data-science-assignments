{
 "cells": [
  {
   "cell_type": "code",
   "execution_count": 1,
   "id": "171a2f4e-2ca1-46cd-942d-5c2fa2981a20",
   "metadata": {},
   "outputs": [],
   "source": [
    "#Q1. Create one variable containing following type of data:\n",
    "#(i) string\n",
    "a=\"shubham\"\n",
    "\n",
    "#(ii) list\n",
    "l1=[\"1\",1,3,3.0]\n",
    "\n",
    "#(iii) float\n",
    "b=3.56\n",
    "\n",
    "#(iv) tuple\n",
    "tup=(1,2,3,4)"
   ]
  },
  {
   "cell_type": "code",
   "execution_count": 2,
   "id": "e9fcf23b-958b-4d06-a6a6-63404e2f1560",
   "metadata": {
    "tags": []
   },
   "outputs": [],
   "source": [
    "#Q2. Given are some following variables containing data.What will be the data type of the given variable.\n",
    "#(i) var1 = ‘ ‘\n",
    "ans1=\"string\"\n",
    "\n",
    "#(ii) var2 = ‘[ DS , ML , Python]’\n",
    "ans2=\"string\"\n",
    "\n",
    "#(iii) var3 = [ ‘DS’ , ’ML’ , ‘Python’ ]\n",
    "ans3=\"list\"\n",
    "\n",
    "#(iv) var4 = 1.\n",
    "ans4=\"float\""
   ]
  },
  {
   "cell_type": "code",
   "execution_count": 3,
   "id": "5f306072-920f-435d-a051-42b3a5041ddd",
   "metadata": {},
   "outputs": [],
   "source": [
    "#Q3. Explain the use of the following operators using an example:\n",
    "#(i) /\n",
    "ans1=\"It is known as arithematic division operator. It gives quotient as the output of given statement. Ex the output for 10/2 is 5\"\n",
    "\n",
    "#(ii) %\n",
    "ans2=\"It is known as modulo operator. It gives modulus or remainder as the output of given statement. Ex the output for 10%2 is 0\"\n",
    "\n",
    "#(iii) //\n",
    "ans3=\"It is known as floor division operator. It gives quotient rounded of to the nearest smaller integer as the output of given statement. Ex the output for 10//3 is 3\"\n",
    "\n",
    "#(iv) **\n",
    "ans1=\"It is known as power or exponential operator. It gives a raised to the power b for expression a**b as the output of given statement. Ex the output for 2**3 is 8\""
   ]
  },
  {
   "cell_type": "code",
   "execution_count": 4,
   "id": "1538c88b-9d50-4264-9659-d054a88efd25",
   "metadata": {},
   "outputs": [
    {
     "name": "stdout",
     "output_type": "stream",
     "text": [
      "1\n",
      "2\n",
      "3\n",
      "hlo\n",
      "3.78\n",
      "my\n",
      "name\n",
      "is\n",
      "shubham malik\n",
      "787\n"
     ]
    }
   ],
   "source": [
    "#Q4. Create a list of length 10 of your choice containing multiple types of data. Using for loop print the element and its data type.\n",
    "l1=[1,2,3,\"hlo\",3.78,\"my\",\"name\",\"is\",\"shubham malik\",787]\n",
    "for i in l1:\n",
    "    print(i)"
   ]
  },
  {
   "cell_type": "code",
   "execution_count": 6,
   "id": "b9d460ed-a938-42ec-8a37-54bd08e3be9c",
   "metadata": {},
   "outputs": [
    {
     "name": "stdout",
     "output_type": "stream",
     "text": [
      "8 is divisible by 2 3 times\n"
     ]
    }
   ],
   "source": [
    "#Q5. Using a while loop, verify if the number A is purely divisible by number B and if so then how many times it can be divisible.\\\n",
    "cnt=0\n",
    "a=8\n",
    "n=a\n",
    "b=2\n",
    "while(a%b==0):\n",
    "    cnt+=1\n",
    "    a=a/b\n",
    "print(n,\"is divisible by\",b,cnt,\"times\")"
   ]
  },
  {
   "cell_type": "code",
   "execution_count": 1,
   "id": "4d6eadeb-ac13-4944-9f51-9a62508f270f",
   "metadata": {},
   "outputs": [
    {
     "name": "stdout",
     "output_type": "stream",
     "text": [
      "1 is not divisible by 3\n",
      "3 is divisible by 3\n",
      "4 is not divisible by 3\n",
      "2 is not divisible by 3\n",
      "66 is divisible by 3\n",
      "433 is not divisible by 3\n",
      "23 is not divisible by 3\n",
      "76 is not divisible by 3\n",
      "45 is divisible by 3\n",
      "32 is not divisible by 3\n",
      "12 is divisible by 3\n",
      "131 is not divisible by 3\n",
      "67 is not divisible by 3\n",
      "54 is divisible by 3\n",
      "23 is not divisible by 3\n",
      "5 is not divisible by 3\n",
      "32 is not divisible by 3\n",
      "11 is not divisible by 3\n",
      "18 is divisible by 3\n",
      "22 is not divisible by 3\n",
      "25 is not divisible by 3\n",
      "65 is not divisible by 3\n",
      "45 is divisible by 3\n",
      "13 is not divisible by 3\n",
      "67 is not divisible by 3\n"
     ]
    }
   ],
   "source": [
    "#Q6. Create a list containing 25 int type data. Using for loop and if-else condition print if the element is divisible by 3 or not.\n",
    "l1=[1,3,4,2,66,433,23,76,45,32,12,131,67,54,23,5,32,11,18,22,25,65,45,13,67]\n",
    "for i in l1:\n",
    "    if i%3==0:\n",
    "        print(i,'is divisible by 3')\n",
    "    else:\n",
    "        print(i,\"is not divisible by 3\")"
   ]
  },
  {
   "cell_type": "code",
   "execution_count": null,
   "id": "a5e143d5-1637-4e11-b2b0-4c2c0e2c20bf",
   "metadata": {},
   "outputs": [],
   "source": [
    "#. What do you understand about mutable and immutable data types? Give examples for both showing this property.\n",
    "ans1=\"Mutable data types are those data types in which we can perform changes i.e if we do changes it reflect back without using new storage.Ex lists  whereas immutable data types are those data types in which we cant perform any type of change i.e if once they are created we cant perform any change in the value or it create a new storage area for new value. Ex tuple\"\n",
    "ex=\"l1=[1,2,3,4,5] in list if want to change any value we chnge like l1[2]=6 the changes get reflect in the same list whereas if we make any type of change in tuple tup=(1,2,3,4) if we want first value be 9 then tup[0]=9 will throw an error\"\n"
   ]
  }
 ],
 "metadata": {
  "kernelspec": {
   "display_name": "Python 3 (ipykernel)",
   "language": "python",
   "name": "python3"
  },
  "language_info": {
   "codemirror_mode": {
    "name": "ipython",
    "version": 3
   },
   "file_extension": ".py",
   "mimetype": "text/x-python",
   "name": "python",
   "nbconvert_exporter": "python",
   "pygments_lexer": "ipython3",
   "version": "3.10.8"
  }
 },
 "nbformat": 4,
 "nbformat_minor": 5
}
