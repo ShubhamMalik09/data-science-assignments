{
 "cells": [
  {
   "cell_type": "code",
   "execution_count": null,
   "id": "e860921d-7ff1-4292-9bd5-bba0d5340f32",
   "metadata": {},
   "outputs": [],
   "source": [
    "#Q1. What is a database? Differentiate between SQL and NoSQL databases.\n",
    "sol=\"A database is a structured collection of data that is organized, managed, and accessed in a systematic way. \\\n",
    "It allows users to store, retrieve, update, and delete data efficiently.\"\n",
    "# SQL Databases\n",
    "sol=\"SQL (Structured Query Language) databases are relational databases that store and manage data in structured tables.\\\n",
    "They use SQL for querying and manipulating data. Ex. MySQL\"\n",
    "\n",
    "# NoSQL Databases\n",
    "sol=\"NoSQL (Not Only SQL) databases are non-relational databases that store and manage data in flexible formats,\\\n",
    "like key-value pairs, documents, or graphs. They are designed for high scalability, performance, and flexibility. \""
   ]
  },
  {
   "cell_type": "code",
   "execution_count": null,
   "id": "4e369d5d-5891-4e27-bbbb-3ea6b520743c",
   "metadata": {},
   "outputs": [],
   "source": [
    "#Q2. What is DDL? Explain why CREATE, DROP, ALTER, and TRUNCATE are used with an example.\n",
    "sol=\"DDL stands for Data Definition Language, used to define and manage the structure of database objects.\\\n",
    "DDL commands are responsible for creating, modifying, and deleting database objects. It includes CREATE, ALTER, DROP, TRUNCATE commands.\"\n",
    "\n",
    "# CREATE\n",
    "sol=\"The CREATE command is used to create new database objects.\"\n",
    "\n",
    "# DROP\n",
    "sol=\"The DROP command is used to delete existing database objects.\"\n",
    "\n",
    "# ALTER\n",
    "sol=\" The ALTER command is used to modify the structure of an existing database object.\"\n",
    "\n",
    "# TRUNCATE\n",
    "sol=\"The TRUNCATE command is used to remove all data from a table while keeping its structure intact\""
   ]
  },
  {
   "cell_type": "code",
   "execution_count": null,
   "id": "25bb7349-43ea-4ccd-a880-926a2c2b4997",
   "metadata": {},
   "outputs": [],
   "source": [
    "#Q3. What is DML? Explain INSERT, UPDATE, and DELETE with an example.\n",
    "sol=\"DML stands for Data Manipulation Language, used to manipulate and work with the data stored in the database.\\\n",
    "DML commands are responsible for inserting, updating, and deleting data within the database tables.\"\n",
    "\n",
    "# INSERT\n",
    "sol=\"The INSERT command is used to add new records (rows) into a table.\"\n",
    "\n",
    "# UPDATE\n",
    "sol=\"The UPDATE command is used to modify existing records in a table.\"\n",
    "\n",
    "# DELETE\n",
    "sol=\" The DELETE command is used to remove specific records from a table.\""
   ]
  },
  {
   "cell_type": "code",
   "execution_count": null,
   "id": "cb2fdccd-bdc9-47e3-9751-72b7f9997488",
   "metadata": {},
   "outputs": [],
   "source": [
    "#Q4. What is DQL? Explain SELECT with an example.\n",
    "sol=\"DQL stands for Data Query Language, used to retrieve and query data from a database.\\\n",
    "DQL commands focus on querying and extracting specific information from the database tables.\"\n",
    "\n",
    "# SELECT\n",
    "sol=\"The SELECT command is used to retrieve data from one or more tables based on specified criteria.\\\n",
    "The SELECT command is one of the fundamental DQL commands.\\\n",
    "\n",
    "EX. 'SELECT name, salary FROM employees WHERE age >= 30;' \\\n",
    "\n",
    "the SELECT statement retrieves the 'name' and 'salary' columns from the 'employees' table,\\\n",
    "but only for rows where the 'age' is greater than or equal to 30.\""
   ]
  },
  {
   "cell_type": "code",
   "execution_count": null,
   "id": "fd47d43f-2ea8-45d9-a055-943cd159d715",
   "metadata": {},
   "outputs": [],
   "source": [
    "#Q5. Explain Primary Key and Foreign Key.\n",
    "# Primary Key\n",
    "sol=\"A primary key is a column or set of columns in a table that uniquely identifies each row in the table. \\\n",
    "A primary key cannot contain null values and must be unique for each row in the table.\"\n",
    "\n",
    "# Foreign Key\n",
    "sol=\"A foreign key is a column or set of columns in one table that refers to the primary key of another table.\\\n",
    "It is used to establish a link between two tables and enforce referential integrity between them. \\\n",
    "A foreign key can contain null values and must match the data type of the primary key it refers to.\""
   ]
  },
  {
   "cell_type": "code",
   "execution_count": null,
   "id": "e5236d8d-4c09-4dc9-88b2-5a35fac42693",
   "metadata": {},
   "outputs": [],
   "source": [
    "#Q6. Write a python code to connect MySQL to python. Explain the cursor() and execute() method.\n",
    "# Python code to connect MySQL\n",
    "import mysql.connector\n",
    "mydb = mysql.connector.connect(\n",
    "  host=\"localhost\",\n",
    "  user=\"abc\",\n",
    "  password=\"password\"\n",
    ")\n",
    "mycursor = mydb.cursor()\n",
    "\n",
    "# cursor()\n",
    "sol=\"The cursor() method is used to create a cursor object, which allows to execute SQL queries and fetch results from the database.\\\n",
    "A cursor acts as a pointer or handle to the result set returned by the database after executing a query.\"\n",
    "\n",
    "# execute()\n",
    "sol=\"The execute() method is used to execute an SQL query using the cursor.\\\n",
    "We pass the SQL statement as a string argument to the execute() method, and it sends the query to the database for execution.\""
   ]
  },
  {
   "cell_type": "code",
   "execution_count": null,
   "id": "2f09bf33-de15-44a9-85ff-658d71c6c110",
   "metadata": {},
   "outputs": [],
   "source": [
    "#Q7. Give the order of execution of SQL clauses in an SQL query.\n",
    "sol=\"FROM clause\\\n",
    "JOIN clause \\\n",
    "WHERE clause \\\n",
    "GROUP BY clause\\\n",
    "HAVING clause\\\n",
    "SELECT clause\\\n",
    "DISTINCT clause\\\n",
    "ORDER BY clause\""
   ]
  }
 ],
 "metadata": {
  "kernelspec": {
   "display_name": "Python 3 (ipykernel)",
   "language": "python",
   "name": "python3"
  },
  "language_info": {
   "codemirror_mode": {
    "name": "ipython",
    "version": 3
   },
   "file_extension": ".py",
   "mimetype": "text/x-python",
   "name": "python",
   "nbconvert_exporter": "python",
   "pygments_lexer": "ipython3",
   "version": "3.10.8"
  }
 },
 "nbformat": 4,
 "nbformat_minor": 5
}
