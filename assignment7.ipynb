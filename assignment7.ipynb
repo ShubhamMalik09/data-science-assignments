{
 "cells": [
  {
   "cell_type": "code",
   "execution_count": 1,
   "id": "53abce6b-2cc5-48a7-8d36-a7bf57ad1155",
   "metadata": {},
   "outputs": [
    {
     "name": "stdout",
     "output_type": "stream",
     "text": [
      "Car started.\n",
      "Car stopped.\n",
      "Motorcycle started.\n",
      "Motorcycle stopped.\n"
     ]
    }
   ],
   "source": [
    "#Q1. What is Abstraction in OOps? Explain with an example.\n",
    "sol=\"Abstraction is a fundamental concept in OOPs that helps to encapsulate the implementation details of a class from its users.\\\n",
    "It allows users to interact with a class without needing to know how it works internally.\\\n",
    "In Python, abstraction is achieved through the use of abstract classes\"\n",
    "import abc\n",
    "from abc import ABC\n",
    "class Vehicle(ABC):\n",
    "    @abc.abstractmethod\n",
    "    def start(self):\n",
    "        pass\n",
    "\n",
    "    @abc.abstractmethod\n",
    "    def stop(self):\n",
    "        pass\n",
    "\n",
    "class Car(Vehicle):\n",
    "    def start(self):\n",
    "        print(\"Car started.\")\n",
    "\n",
    "    def stop(self):\n",
    "        print(\"Car stopped.\")\n",
    "\n",
    "class Motorcycle(Vehicle):\n",
    "    def start(self):\n",
    "        print(\"Motorcycle started.\")\n",
    "\n",
    "    def stop(self):\n",
    "        print(\"Motorcycle stopped.\")\n",
    "\n",
    "\n",
    "car = Car()\n",
    "motorcycle = Motorcycle()\n",
    "car.start()         \n",
    "car.stop()         \n",
    "motorcycle.start()\n",
    "motorcycle.stop()"
   ]
  },
  {
   "cell_type": "code",
   "execution_count": 2,
   "id": "fbd120c1-5727-4077-baf2-d04babc54442",
   "metadata": {},
   "outputs": [
    {
     "name": "stdout",
     "output_type": "stream",
     "text": [
      "driving. maxspeed 200\n",
      "driving. maxspeed 10\n"
     ]
    }
   ],
   "source": [
    "#Q2. Differentiate between Abstraction and Encapsulation. Explain with an example.\n",
    "sol=\"Abstraction and Encapsulation are two important concepts in Object-Oriented Programming (OOP).\\\n",
    "Abstraction is the process of hiding the implementation details and showing only the functionality to the user.\\\n",
    "Encapsulation is the process of wrapping data and methods that work on data within one unit.\\\n",
    "This puts restrictions on accessing variables and methods directly and can prevent the accidental modification of data\"\n",
    "class Car:\n",
    "    def __init__(self):\n",
    "        self.__maxspeed = 200\n",
    "        self.__name = \"Supercar\"\n",
    "        \n",
    "    def setMaxSpeed(self,speed):\n",
    "        self.__maxspeed = speed\n",
    "        \n",
    "    def drive(self):\n",
    "        print('driving. maxspeed ' + str(self.__maxspeed))\n",
    "          \n",
    "car1 = Car()\n",
    "car1.drive()\n",
    "car1.setMaxSpeed(10)\n",
    "car1.drive()"
   ]
  },
  {
   "cell_type": "code",
   "execution_count": 3,
   "id": "61bb3d5a-0d6b-41c7-a2dd-50565b976842",
   "metadata": {},
   "outputs": [],
   "source": [
    "#Q3. What is abc module in python? Why is it used?\n",
    "sol=\"The abc module in Python stands for 'Abstract Base Classes.' It is a module that provides facilities for creating abstract classes\\\n",
    "and defining abstract methods. Abstract classes are classes that cannot be instantiated directly but serve as a blueprint for other classes,\\\n",
    "providing a common interface that their subclasses must implement.\"\n",
    "sol2=\" the abc module is used to define our own abstract base classes and enforce a common interface for our subclasses. \\\n",
    "This makes our code more modular and easier to maintain.\""
   ]
  },
  {
   "cell_type": "code",
   "execution_count": 4,
   "id": "5fc863cd-3c50-444c-a532-dda53e4b18d7",
   "metadata": {},
   "outputs": [],
   "source": [
    "#Q4. How can we achieve data abstraction?\n",
    "sol=\"Data abstraction in Python can be achieved using abstract classes and inheriting them later. Data abstraction focuses on providing a simplified\\\n",
    "view of the data and hiding the implementation details from the outside world. It allows to define the essential attributes and behaviors of an object\\\n",
    "while abstracting away the internal complexities.\""
   ]
  },
  {
   "cell_type": "code",
   "execution_count": null,
   "id": "ac522090-ee64-4a57-8f31-085617ad98f1",
   "metadata": {},
   "outputs": [],
   "source": [
    "#Q5. Can we create an instance of an abstract class? Explain your answer.\n",
    "sol=\"No, we cannot create an instance of an abstract class in Python. An abstract class is a class that contains one or more abstract methods.\\\n",
    "An abstract method is declared in the abstract class but lacks an implementation. Instead, it is meant to be overridden in its concrete subclasses.\\\n",
    "Concrete subclasses must provide complete implementations for all abstract methods of their abstract base class, allowing them to be instantiated.\""
   ]
  }
 ],
 "metadata": {
  "kernelspec": {
   "display_name": "Python 3 (ipykernel)",
   "language": "python",
   "name": "python3"
  },
  "language_info": {
   "codemirror_mode": {
    "name": "ipython",
    "version": 3
   },
   "file_extension": ".py",
   "mimetype": "text/x-python",
   "name": "python",
   "nbconvert_exporter": "python",
   "pygments_lexer": "ipython3",
   "version": "3.10.8"
  }
 },
 "nbformat": 4,
 "nbformat_minor": 5
}
